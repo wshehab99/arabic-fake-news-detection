{
 "cells": [
  {
   "cell_type": "markdown",
   "id": "13e10e2d",
   "metadata": {},
   "source": [
    "## packages"
   ]
  },
  {
   "cell_type": "code",
   "execution_count": 1,
   "id": "a529a0a2",
   "metadata": {},
   "outputs": [],
   "source": [
    "import nltk\n",
    "from tkinter import *\n",
    "import pyarabic.arabrepr\n",
    "import re\n",
    "#stem  \n",
    "from tashaphyne.stemming import ArabicLightStemmer\n",
    "arepr=pyarabic.arabrepr.ArabicRepr()\n",
    "repr=arepr.repr\n",
    "arabic_stemmer=ArabicLightStemmer()"
   ]
  },
  {
   "cell_type": "markdown",
   "id": "d6fb8ac1",
   "metadata": {},
   "source": [
    "## read the data"
   ]
  },
  {
   "cell_type": "code",
   "execution_count": 2,
   "id": "a132ab80",
   "metadata": {},
   "outputs": [
    {
     "data": {
      "text/html": [
       "<div>\n",
       "<style scoped>\n",
       "    .dataframe tbody tr th:only-of-type {\n",
       "        vertical-align: middle;\n",
       "    }\n",
       "\n",
       "    .dataframe tbody tr th {\n",
       "        vertical-align: top;\n",
       "    }\n",
       "\n",
       "    .dataframe thead th {\n",
       "        text-align: right;\n",
       "    }\n",
       "</style>\n",
       "<table border=\"1\" class=\"dataframe\">\n",
       "  <thead>\n",
       "    <tr style=\"text-align: right;\">\n",
       "      <th></th>\n",
       "      <th>text</th>\n",
       "      <th>label</th>\n",
       "    </tr>\n",
       "  </thead>\n",
       "  <tbody>\n",
       "    <tr>\n",
       "      <th>0</th>\n",
       "      <td>سحبت شركة غوغل في خطوة مفاجئة خدمة يوتيوب الشه...</td>\n",
       "      <td>1</td>\n",
       "    </tr>\n",
       "    <tr>\n",
       "      <th>1</th>\n",
       "      <td>عاد لاعب باريس سان جيرمان  البرازيلي نيمار دا ...</td>\n",
       "      <td>1</td>\n",
       "    </tr>\n",
       "    <tr>\n",
       "      <th>2</th>\n",
       "      <td>أخبارنا المغربية ـ متابعة   في أول رد للبرلمان...</td>\n",
       "      <td>1</td>\n",
       "    </tr>\n",
       "    <tr>\n",
       "      <th>3</th>\n",
       "      <td>شيرين تتهرب من المؤتمر الصحفي لمهرجان تطوان و ...</td>\n",
       "      <td>1</td>\n",
       "    </tr>\n",
       "    <tr>\n",
       "      <th>4</th>\n",
       "      <td>منظمو أولمبياد طوكيو 2020 يطالبون بالتبرع باله...</td>\n",
       "      <td>1</td>\n",
       "    </tr>\n",
       "  </tbody>\n",
       "</table>\n",
       "</div>"
      ],
      "text/plain": [
       "                                                text  label\n",
       "0  سحبت شركة غوغل في خطوة مفاجئة خدمة يوتيوب الشه...      1\n",
       "1  عاد لاعب باريس سان جيرمان  البرازيلي نيمار دا ...      1\n",
       "2  أخبارنا المغربية ـ متابعة   في أول رد للبرلمان...      1\n",
       "3  شيرين تتهرب من المؤتمر الصحفي لمهرجان تطوان و ...      1\n",
       "4  منظمو أولمبياد طوكيو 2020 يطالبون بالتبرع باله...      1"
      ]
     },
     "execution_count": 2,
     "metadata": {},
     "output_type": "execute_result"
    }
   ],
   "source": [
    "import pandas as pd\n",
    "fake=pd.read_csv('E:/nbn/fake-news.csv',encoding='utf-8')\n",
    "real=pd.read_csv('E:/nbn/real-news.csv',encoding='utf-8')\n",
    "real['label']=1\n",
    "fake['label']=0\n",
    "real=real[:5000]\n",
    "fake=fake[:5000]\n",
    "df=pd.concat([real,fake])\n",
    "#4999-0\n",
    "df.head()"
   ]
  },
  {
   "cell_type": "markdown",
   "id": "ca133730",
   "metadata": {},
   "source": [
    "## preprocessing"
   ]
  },
  {
   "cell_type": "code",
   "execution_count": 3,
   "id": "ce33120c",
   "metadata": {},
   "outputs": [
    {
     "data": {
      "text/html": [
       "<div>\n",
       "<style scoped>\n",
       "    .dataframe tbody tr th:only-of-type {\n",
       "        vertical-align: middle;\n",
       "    }\n",
       "\n",
       "    .dataframe tbody tr th {\n",
       "        vertical-align: top;\n",
       "    }\n",
       "\n",
       "    .dataframe thead th {\n",
       "        text-align: right;\n",
       "    }\n",
       "</style>\n",
       "<table border=\"1\" class=\"dataframe\">\n",
       "  <thead>\n",
       "    <tr style=\"text-align: right;\">\n",
       "      <th></th>\n",
       "      <th>text</th>\n",
       "      <th>label</th>\n",
       "    </tr>\n",
       "  </thead>\n",
       "  <tbody>\n",
       "    <tr>\n",
       "      <th>4995</th>\n",
       "      <td>صورة لقلعة هتلر في ألمانيا</td>\n",
       "      <td>0</td>\n",
       "    </tr>\n",
       "    <tr>\n",
       "      <th>4996</th>\n",
       "      <td>اجتماع رئيس حركة الهضة راشد الغنوشي مع زعيم ال...</td>\n",
       "      <td>0</td>\n",
       "    </tr>\n",
       "    <tr>\n",
       "      <th>4997</th>\n",
       "      <td>فتاة أفغانية كشفت وجهها ليصورها ستيف ماكوري ال...</td>\n",
       "      <td>0</td>\n",
       "    </tr>\n",
       "    <tr>\n",
       "      <th>4998</th>\n",
       "      <td>صورة ت ظهر رئيس حكومة الوفاق الليبية فايز السر...</td>\n",
       "      <td>0</td>\n",
       "    </tr>\n",
       "    <tr>\n",
       "      <th>4999</th>\n",
       "      <td>صورة ت ظهر أسلحة صيد تمت مصادرتها ثم  إتلافها ...</td>\n",
       "      <td>0</td>\n",
       "    </tr>\n",
       "  </tbody>\n",
       "</table>\n",
       "</div>"
      ],
      "text/plain": [
       "                                                   text  label\n",
       "4995                       صورة لقلعة هتلر في ألمانيا        0\n",
       "4996  اجتماع رئيس حركة الهضة راشد الغنوشي مع زعيم ال...      0\n",
       "4997  فتاة أفغانية كشفت وجهها ليصورها ستيف ماكوري ال...      0\n",
       "4998  صورة ت ظهر رئيس حكومة الوفاق الليبية فايز السر...      0\n",
       "4999  صورة ت ظهر أسلحة صيد تمت مصادرتها ثم  إتلافها ...      0"
      ]
     },
     "execution_count": 3,
     "metadata": {},
     "output_type": "execute_result"
    }
   ],
   "source": [
    "df.tail()"
   ]
  },
  {
   "cell_type": "markdown",
   "id": "2b4c3112",
   "metadata": {},
   "source": [
    "# shuffel the data"
   ]
  },
  {
   "cell_type": "code",
   "execution_count": 4,
   "id": "32ab3d9d",
   "metadata": {},
   "outputs": [
    {
     "data": {
      "text/html": [
       "<div>\n",
       "<style scoped>\n",
       "    .dataframe tbody tr th:only-of-type {\n",
       "        vertical-align: middle;\n",
       "    }\n",
       "\n",
       "    .dataframe tbody tr th {\n",
       "        vertical-align: top;\n",
       "    }\n",
       "\n",
       "    .dataframe thead th {\n",
       "        text-align: right;\n",
       "    }\n",
       "</style>\n",
       "<table border=\"1\" class=\"dataframe\">\n",
       "  <thead>\n",
       "    <tr style=\"text-align: right;\">\n",
       "      <th></th>\n",
       "      <th>text</th>\n",
       "      <th>label</th>\n",
       "    </tr>\n",
       "  </thead>\n",
       "  <tbody>\n",
       "    <tr>\n",
       "      <th>413</th>\n",
       "      <td>فاز منتخب بوركينا فاسو على نظيره الغاني في مبا...</td>\n",
       "      <td>1</td>\n",
       "    </tr>\n",
       "    <tr>\n",
       "      <th>735</th>\n",
       "      <td>ترشيح لجائزة الانحياز الواضح   مسلمون يتضرعون ...</td>\n",
       "      <td>0</td>\n",
       "    </tr>\n",
       "    <tr>\n",
       "      <th>4380</th>\n",
       "      <td>أثارت تصريحات المدير التنفيذي لشركة  شياومي  ا...</td>\n",
       "      <td>1</td>\n",
       "    </tr>\n",
       "    <tr>\n",
       "      <th>1464</th>\n",
       "      <td>ترامب يقترح على إسبانيا بناء جدار في الصحرا...</td>\n",
       "      <td>0</td>\n",
       "    </tr>\n",
       "    <tr>\n",
       "      <th>4963</th>\n",
       "      <td>صورة لخفاش في حجم الإنسان  ع ثر عليه في الفلبين</td>\n",
       "      <td>0</td>\n",
       "    </tr>\n",
       "  </tbody>\n",
       "</table>\n",
       "</div>"
      ],
      "text/plain": [
       "                                                   text  label\n",
       "413   فاز منتخب بوركينا فاسو على نظيره الغاني في مبا...      1\n",
       "735   ترشيح لجائزة الانحياز الواضح   مسلمون يتضرعون ...      0\n",
       "4380  أثارت تصريحات المدير التنفيذي لشركة  شياومي  ا...      1\n",
       "1464     ترامب يقترح على إسبانيا بناء جدار في الصحرا...      0\n",
       "4963  صورة لخفاش في حجم الإنسان  ع ثر عليه في الفلبين        0"
      ]
     },
     "execution_count": 4,
     "metadata": {},
     "output_type": "execute_result"
    }
   ],
   "source": [
    "from sklearn.utils import shuffle\n",
    "df=shuffle(df)\n",
    "df.head()"
   ]
  },
  {
   "cell_type": "markdown",
   "id": "33c06017",
   "metadata": {},
   "source": [
    "# reset indexes"
   ]
  },
  {
   "cell_type": "code",
   "execution_count": 5,
   "id": "7b6b7ea8",
   "metadata": {},
   "outputs": [
    {
     "data": {
      "text/plain": [
       "1    طالب توجيهي يكتشف حبه لمتابعة النشرة الاقتصادي...\n",
       "1    عاد لاعب باريس سان جيرمان  البرازيلي نيمار دا ...\n",
       "Name: text, dtype: object"
      ]
     },
     "execution_count": 5,
     "metadata": {},
     "output_type": "execute_result"
    }
   ],
   "source": [
    "df[\"text\"][1]"
   ]
  },
  {
   "cell_type": "code",
   "execution_count": 6,
   "id": "01c7dc9c",
   "metadata": {},
   "outputs": [
    {
     "data": {
      "text/html": [
       "<div>\n",
       "<style scoped>\n",
       "    .dataframe tbody tr th:only-of-type {\n",
       "        vertical-align: middle;\n",
       "    }\n",
       "\n",
       "    .dataframe tbody tr th {\n",
       "        vertical-align: top;\n",
       "    }\n",
       "\n",
       "    .dataframe thead th {\n",
       "        text-align: right;\n",
       "    }\n",
       "</style>\n",
       "<table border=\"1\" class=\"dataframe\">\n",
       "  <thead>\n",
       "    <tr style=\"text-align: right;\">\n",
       "      <th></th>\n",
       "      <th>text</th>\n",
       "      <th>label</th>\n",
       "    </tr>\n",
       "  </thead>\n",
       "  <tbody>\n",
       "    <tr>\n",
       "      <th>0</th>\n",
       "      <td>خلال_ايام   إعلان الغاء الدوري   السعودي   ال...</td>\n",
       "      <td>0</td>\n",
       "    </tr>\n",
       "    <tr>\n",
       "      <th>1</th>\n",
       "      <td>الأعمار الحقيقية لأشهر الفنانات العربيات    بي...</td>\n",
       "      <td>1</td>\n",
       "    </tr>\n",
       "    <tr>\n",
       "      <th>2</th>\n",
       "      <td>قال بحث جديد إن الشوكولا الداكنة تفيد مثل الشم...</td>\n",
       "      <td>1</td>\n",
       "    </tr>\n",
       "    <tr>\n",
       "      <th>3</th>\n",
       "      <td>قالت  أخبار اليوم  في عددها الصادر غدا أن حميد...</td>\n",
       "      <td>1</td>\n",
       "    </tr>\n",
       "    <tr>\n",
       "      <th>4</th>\n",
       "      <td>أخبارنا المغربية     أفاد بلاغ لوزراة الداخلية...</td>\n",
       "      <td>1</td>\n",
       "    </tr>\n",
       "  </tbody>\n",
       "</table>\n",
       "</div>"
      ],
      "text/plain": [
       "                                                text  label\n",
       "0   خلال_ايام   إعلان الغاء الدوري   السعودي   ال...      0\n",
       "1  الأعمار الحقيقية لأشهر الفنانات العربيات    بي...      1\n",
       "2  قال بحث جديد إن الشوكولا الداكنة تفيد مثل الشم...      1\n",
       "3  قالت  أخبار اليوم  في عددها الصادر غدا أن حميد...      1\n",
       "4  أخبارنا المغربية     أفاد بلاغ لوزراة الداخلية...      1"
      ]
     },
     "execution_count": 6,
     "metadata": {},
     "output_type": "execute_result"
    }
   ],
   "source": [
    "df=df.sample(frac=1).reset_index(drop=True)\n",
    "#Return a random sample of items from an axis of object.\n",
    "#frac is A random n% sample of the DataFrame with replacement\n",
    "df.head()"
   ]
  },
  {
   "cell_type": "code",
   "execution_count": 7,
   "id": "1b430ee1",
   "metadata": {},
   "outputs": [],
   "source": [
    "import string\n",
    "punc=list(string.punctuation)\n",
    "file=open('E:/nbn/stopwords.txt','r',encoding='utf-8')\n",
    "ss=file.read()\n",
    "\n",
    "stop_words=ss.split()\n"
   ]
  },
  {
   "cell_type": "code",
   "execution_count": 8,
   "id": "2a50e38f",
   "metadata": {},
   "outputs": [
    {
     "data": {
      "text/plain": [
       "'الأعمار الحقيقية لأشهر الفنانات العربيات    بينما ترفض فنانات الكشف عن أعمارهن الحقيقية  هناك أخريات يتباهين بأعمارهن خلال استضافتهن في البرامج  مؤكدات أن هن لا يخشين التقدم في السن     شيرين عبد الوهاب آخر الفنانات اللواتي كشفن عن عمرهن  فاجأت النجمة المصرية الجميع في برنامج  ذا فويس   بالإعلان عن عمرها الحقيقي  فبعدما أبدت إعجابها بمتسابق مصري  سألته عن عمره فأخبرها أنه في العشرين  عندها  ردت قائلة   يعني أنا أكبر منك بـ14 عاما    أي أنها تبلغ 34 عاما   يومها  غازلها كاظم الساهر  قائلا  بأن ها تبدو أصغر من المتسابق بـ5 سنوات  مما أثار ضحك شيرين التي شكرته على مجاملته الرقيقة    وقبلها  كشفت غادة عبد الرازق عن عمرها الحقيقي خلال حوارها مع المذيعة منى عبد الوهاب ضمن برنامج  مصارحة حرة  على قناة      يومها  أشارت إلى أن ها تبلغ 44 عاما   مواليد 6 يوليو 1970   متحدية  أي شخص أن يثبت عكس هذا الكلام  وبالرغم من إعلان غادة عن عمرها في أكثر من مناسبة  إلا أن  هناك من يراها أكبر بسنوات  وكشفت علا غانم عن عمرها الحقيقي خلال استضافتها في برنامج  بدون مكياج  الذي قدمه طوني خليفة على قناة  القاهرة والناس   وأكدت يومها أن ها لا تخجل من عمرها الحقيقي  مشيرة إلى أن ه عندما يعلم أي شخص بعمرها الحقيقي  فإن ه لا يصد ق ويقول لها إن ها تبدو في الثلاثين    كذلك  كشفت سميرة سعيد عن عمرها الحقيقي خلال حواراتها الصحافية  مؤكدة أن ها بلغت 56 عاما   ومشيرة  إلى أن ه يستحيل أن يظل الإنسان شابا  كل حياته  بل من المهم أن يحافظ على شكله ويعتمد على نمط حياة معتدل ونظام غذائي صحي ويمارس الرياضة    وخلال مقابلة مع إذاعة المدينة  أف  أم  السورية  كشفت سلاف فواخرجي أن ها من مواليد 1977 أي أن  عمرها 37 عاما  مؤكدة أن ها ليست من اللواتي يخجلن من عمرهن    أما هيفا وهبي  فانتشر لها فيديو عبر مواقع التواصل الاجتماعي من مقابلة سفرية أجرتها وكشفت فيها عن أهم الأمور التي ترافقها خلال السفر  كما صر حت عن عمرها قائلة   أنا من مواليد 1976  بس متحكوش لحد      كذلك  أعلنت نادين الراسي عن عمرها بعدما نشرت بطاقة هويتها الشخصية التي أشارت إلى أن ها من مواليد 1979  وخلال الاحتفال الذي أقيم لعيد ميلادها في كواليس برنامج  أرابز غوت تالنت   كشفت نجوى كرم أن ها تبلغ 49 عاما  '"
      ]
     },
     "execution_count": 8,
     "metadata": {},
     "output_type": "execute_result"
    }
   ],
   "source": [
    "df[\"text\"][1]"
   ]
  },
  {
   "cell_type": "code",
   "execution_count": 9,
   "id": "8e45364c",
   "metadata": {},
   "outputs": [],
   "source": [
    "\n",
    "def remove_stopwords1():\n",
    "    result_data.delete(\"1.0\",END)\n",
    "    text=rawdata.get(\"1.0\",END)\n",
    "    results=[]\n",
    "    for word in text.split():\n",
    "        if word not in stop_words:\n",
    "\n",
    "            results.append(word)\n",
    "    result_data.insert(\"1.0\",\" - \".join(results))\n"
   ]
  },
  {
   "cell_type": "code",
   "execution_count": 10,
   "id": "d012df6f",
   "metadata": {},
   "outputs": [],
   "source": [
    "def choose_text():\n",
    "    import random\n",
    "    n=random.randint(0,len(df))\n",
    "    rawdata.delete('1.0',END)\n",
    "    rawdata.insert(\"1.0\",df['text'][n])"
   ]
  },
  {
   "cell_type": "code",
   "execution_count": 11,
   "id": "33e60687",
   "metadata": {},
   "outputs": [],
   "source": [
    "def splitting1():\n",
    "    result_data.delete(\"1.0\",END)\n",
    "    text=rawdata.get(\"1.0\",END)\n",
    "    results=[]\n",
    "    for word in text.split():\n",
    "        results.append(word)\n",
    "    result_data.insert(\"1.0\",\" - \".join(results))\n",
    "def stemming1():\n",
    "    result_data.delete(\"1.0\",END)\n",
    "    text=rawdata.get(\"1.0\",END)\n",
    "    results=[]\n",
    "    for word in text.split():\n",
    "        word=u\"{}\".format(word)\n",
    "        arabic_stemmer.light_stem(word)\n",
    "        results.append(arabic_stemmer.get_stem())\n",
    "    result_data.insert(\"1.0\",\" - \".join(results))\n",
    "def get_root1():\n",
    "    \n",
    "    result_data.delete(\"1.0\",END)\n",
    "    text=rawdata.get(\"1.0\",END)\n",
    "    results=[]\n",
    "    for word in text.split():\n",
    "        word=u\"{}\".format(word)\n",
    "        arabic_stemmer.light_stem(word)\n",
    "        results.append(arabic_stemmer.get_root())\n",
    "    result_data.insert(\"1.0\",\" - \".join(results))\n"
   ]
  },
  {
   "cell_type": "code",
   "execution_count": 12,
   "id": "51deb20d",
   "metadata": {},
   "outputs": [],
   "source": [
    "def segmentation1():\n",
    "    result_data.delete(\"1.0\",END)\n",
    "    text=rawdata.get(\"1.0\",END)\n",
    "    results=[]\n",
    "    for word in text.split('.'):\n",
    "        results.append(word)\n",
    "    result_data.insert(\"1.0\",\" - \".join(results))"
   ]
  },
  {
   "cell_type": "code",
   "execution_count": 13,
   "id": "ac589998",
   "metadata": {},
   "outputs": [
    {
     "name": "stdout",
     "output_type": "stream",
     "text": [
      "loading dictPrefixes ... loaded 299 entries\n",
      "loading dictStems ... loaded 38600 lemmas and 82158 entries\n",
      "loading dictSuffixes ... loaded 618 entries\n"
     ]
    }
   ],
   "source": [
    "import pyaramorph\n",
    "analyzer=pyaramorph.Analyzer()\n",
    "def analyze_text():\n",
    "    result_data.delete(\"1.0\",END)\n",
    "    text=rawdata.get(\"1.0\",END)\n",
    "    results=analyzer.analyze_text(text)\n",
    "    \n",
    "    result_data.insert(\"1.0\",results)"
   ]
  },
  {
   "cell_type": "code",
   "execution_count": 14,
   "id": "a3bc2a7a",
   "metadata": {
    "scrolled": true
   },
   "outputs": [],
   "source": [
    "top=Tk()\n",
    "top.title('Fake News')\n",
    "top.geometry(\"575x600\") \n",
    "label1=Label(top,text='Enter your Text')\n",
    "rawdata=Text(top,height=15,width=60,)\n",
    "label2=Label(top,text='Result')\n",
    "result_data=Text(top,height=15,width=60,)\n",
    "stem_button=Button(top,text=\"Stem\",command=stemming1)\n",
    "segmentation_button=Button(top,text=\"Segmentation\",command=segmentation1)\n",
    "get_root_button=Button(top,text=\"Get Root\",command=get_root1)\n",
    "split_button=Button(top,text=\"Split Text\",command=splitting1)\n",
    "stopwords_button=Button(top,text=\"Remove StopWords\",command=remove_stopwords1)\n",
    "analyz_button=Button(top,text=\"Analyze Text\",command=analyze_text)\n",
    "random_button=Button(top,text=\"Random text from data\",command=choose_text)\n",
    "\n",
    "\n",
    "\n",
    "label1.grid(row=0,columnspan=7)\n",
    "rawdata.grid(row=1,columnspan=7)\n",
    "label2.grid(row=2,columnspan=7)\n",
    "result_data.grid(row=3,columnspan=7)\n",
    "split_button.grid(row=4,column=0)\n",
    "segmentation_button.grid(row=4,column=1)\n",
    "stopwords_button.grid(row=4,column=2)\n",
    "stem_button.grid(row=4,column=3)\n",
    "get_root_button.grid(row=4,column=4)\n",
    "analyz_button.grid(row=4,column=5)\n",
    "random_button.grid(row=4,column=6)\n",
    "\n",
    "top.mainloop()"
   ]
  },
  {
   "cell_type": "markdown",
   "id": "0fe5be48",
   "metadata": {},
   "source": []
  },
  {
   "cell_type": "code",
   "execution_count": 15,
   "id": "911d16a6",
   "metadata": {},
   "outputs": [],
   "source": [
    "def segmentation(text):\n",
    "    results=text.split('.')\n",
    "    return \" \".join(results)"
   ]
  },
  {
   "cell_type": "code",
   "execution_count": 16,
   "id": "34b271e1",
   "metadata": {},
   "outputs": [],
   "source": [
    "def splitting(text):\n",
    "\n",
    "    results=text.split()\n",
    "    #['','']\n",
    "    return \" \".join(results)"
   ]
  },
  {
   "cell_type": "code",
   "execution_count": 17,
   "id": "3f2106e4",
   "metadata": {},
   "outputs": [],
   "source": [
    "def remove_stopwords(text):\n",
    "    results=[]\n",
    "    for word in text.split():\n",
    "        if word not in stop_words:\n",
    "\n",
    "            results.append(word)\n",
    "    return \" \".join(results)\n"
   ]
  },
  {
   "cell_type": "code",
   "execution_count": 18,
   "id": "2ff1517c",
   "metadata": {},
   "outputs": [],
   "source": [
    "def remove_punctuation(text):\n",
    "\n",
    "    t=[]\n",
    "    for word in text.split(): \n",
    "        if word not in punc:\n",
    "            t.append(word)\n",
    "            \n",
    "    return \" \".join(t)"
   ]
  },
  {
   "cell_type": "code",
   "execution_count": 19,
   "id": "1c52a83b",
   "metadata": {},
   "outputs": [],
   "source": [
    "\n",
    "def stemming(text):\n",
    "\n",
    "    results=[]\n",
    "    for word in text.split():\n",
    "        word=u\"{}\".format(word)\n",
    "        arabic_stemmer.light_stem(word)\n",
    "        results.append(arabic_stemmer.get_stem())\n",
    "        \n",
    "    return \" \".join(results)\n"
   ]
  },
  {
   "cell_type": "code",
   "execution_count": 20,
   "id": "3e928d95",
   "metadata": {},
   "outputs": [],
   "source": [
    "\n",
    "def get_root(text):\n",
    "    results=[]\n",
    "    \n",
    "    for word in text.split():\n",
    "        word=u\"{}\".format(word)\n",
    "        arabic_stemmer.light_stem(word)\n",
    "        results.append(arabic_stemmer.get_root())\n",
    "    return \" \".join(results)\n"
   ]
  },
  {
   "cell_type": "code",
   "execution_count": 21,
   "id": "bb0fc00b",
   "metadata": {},
   "outputs": [],
   "source": [
    "def num_pre(q):\n",
    "    # Replacing some numbers with string equivalents (not perfect, can be done better to account for more cases)\n",
    "    q = q.replace(',000,000,000 ', 'بليون ')\n",
    "    q = q.replace(',000,000 ', 'مليون ')\n",
    "    q = q.replace(',000 ', 'الف ')\n",
    "    q = re.sub(r'([0-9]+)000000000', r'\\بليون ', q)\n",
    "    q = re.sub(r'([0-9]+)000000', r'\\مليون ', q)\n",
    "    q = re.sub(r'([0-9]+)000', r'\\الف ', q)\n",
    "    azer=u\"\\u0660\"\n",
    "    anine=u\"\\u0669\"\n",
    "    q = re.sub(r\"[0-9]([0-9a-zA-Zأ-ي{}-{}]|\\W|_)+\".format(azer,anine), ' ',q)\n",
    "    q = re.sub(r\"_([0-9a-zA-Zأ-ي{}-{}]|\\W|\\w)+\".format(azer,anine), ' ',q)\n",
    "    return q"
   ]
  },
  {
   "cell_type": "markdown",
   "id": "afe3ae8a",
   "metadata": {},
   "source": [
    "# applay the preprocessing"
   ]
  },
  {
   "cell_type": "code",
   "execution_count": 22,
   "id": "dc9a35a4",
   "metadata": {},
   "outputs": [],
   "source": [
    "df['text1']=df['text'].apply(remove_stopwords)\n",
    "df['text1']=df['text1'].apply(num_pre)"
   ]
  },
  {
   "cell_type": "code",
   "execution_count": 23,
   "id": "91b5d6e5",
   "metadata": {},
   "outputs": [],
   "source": [
    "df['text1']=df['text1'].apply(remove_punctuation)\n",
    "df['text1']=df['text1'].apply(get_root)\n"
   ]
  },
  {
   "cell_type": "code",
   "execution_count": 24,
   "id": "a8fd2a2a",
   "metadata": {},
   "outputs": [
    {
     "data": {
      "text/html": [
       "<div>\n",
       "<style scoped>\n",
       "    .dataframe tbody tr th:only-of-type {\n",
       "        vertical-align: middle;\n",
       "    }\n",
       "\n",
       "    .dataframe tbody tr th {\n",
       "        vertical-align: top;\n",
       "    }\n",
       "\n",
       "    .dataframe thead th {\n",
       "        text-align: right;\n",
       "    }\n",
       "</style>\n",
       "<table border=\"1\" class=\"dataframe\">\n",
       "  <thead>\n",
       "    <tr style=\"text-align: right;\">\n",
       "      <th></th>\n",
       "      <th>text</th>\n",
       "      <th>label</th>\n",
       "      <th>text1</th>\n",
       "      <th>news_len</th>\n",
       "      <th>news_num_word</th>\n",
       "    </tr>\n",
       "  </thead>\n",
       "  <tbody>\n",
       "    <tr>\n",
       "      <th>0</th>\n",
       "      <td>خلال_ايام   إعلان الغاء الدوري   السعودي   ال...</td>\n",
       "      <td>0</td>\n",
       "      <td>خلال</td>\n",
       "      <td>4</td>\n",
       "      <td>1</td>\n",
       "    </tr>\n",
       "    <tr>\n",
       "      <th>1</th>\n",
       "      <td>الأعمار الحقيقية لأشهر الفنانات العربيات    بي...</td>\n",
       "      <td>1</td>\n",
       "      <td>عمر حقق شهر فنن عرب رفض فنن كشف عمر حقق ءخر به...</td>\n",
       "      <td>194</td>\n",
       "      <td>48</td>\n",
       "    </tr>\n",
       "    <tr>\n",
       "      <th>2</th>\n",
       "      <td>قال بحث جديد إن الشوكولا الداكنة تفيد مثل الشم...</td>\n",
       "      <td>1</td>\n",
       "      <td>قول حثث جدد شكل دكن فيد لشمندر بنجر حسس ءدد رض...</td>\n",
       "      <td>803</td>\n",
       "      <td>196</td>\n",
       "    </tr>\n",
       "    <tr>\n",
       "      <th>3</th>\n",
       "      <td>قالت  أخبار اليوم  في عددها الصادر غدا أن حميد...</td>\n",
       "      <td>1</td>\n",
       "      <td>قلت خبر لوم عدد صدر غدا حمد شبط لقق غلب عقد يو...</td>\n",
       "      <td>417</td>\n",
       "      <td>106</td>\n",
       "    </tr>\n",
       "    <tr>\n",
       "      <th>4</th>\n",
       "      <td>أخبارنا المغربية     أفاد بلاغ لوزراة الداخلية...</td>\n",
       "      <td>1</td>\n",
       "      <td>خبر غرب فود لوغ وزر دخل حزب ءصل عصر و حزب عدل ...</td>\n",
       "      <td>93</td>\n",
       "      <td>25</td>\n",
       "    </tr>\n",
       "    <tr>\n",
       "      <th>...</th>\n",
       "      <td>...</td>\n",
       "      <td>...</td>\n",
       "      <td>...</td>\n",
       "      <td>...</td>\n",
       "      <td>...</td>\n",
       "    </tr>\n",
       "    <tr>\n",
       "      <th>9995</th>\n",
       "      <td>لماذا يا اله  لماذا  أنت تسأل و و تساءل أيضا ك...</td>\n",
       "      <td>0</td>\n",
       "      <td>لهه سءل و و سءل كتب صفو صرعب لهه دوع تكك لءم س...</td>\n",
       "      <td>1118</td>\n",
       "      <td>286</td>\n",
       "    </tr>\n",
       "    <tr>\n",
       "      <th>9996</th>\n",
       "      <td>ابنة المغني مايكل جاكسون   والدي مات مقتولا   ...</td>\n",
       "      <td>1</td>\n",
       "      <td>بنن لمغ مكل جكس ولد موت قتل قلت بنن مكل جكس لح...</td>\n",
       "      <td>405</td>\n",
       "      <td>101</td>\n",
       "    </tr>\n",
       "    <tr>\n",
       "      <th>9997</th>\n",
       "      <td>سامسونج تطلق أول تلفاز شفاف في العالم في حركة ...</td>\n",
       "      <td>0</td>\n",
       "      <td>مسنج طلق أول لفز شفف علم حرك جرء قوم مسنج مساء...</td>\n",
       "      <td>436</td>\n",
       "      <td>105</td>\n",
       "    </tr>\n",
       "    <tr>\n",
       "      <th>9998</th>\n",
       "      <td>محافظ تركي يلوح بـ ذو الفقار  متوعدا بدخول ...</td>\n",
       "      <td>0</td>\n",
       "      <td>حفظ ركك لوح بــ فقر وعد دخل وصل قدس صدر</td>\n",
       "      <td>39</td>\n",
       "      <td>10</td>\n",
       "    </tr>\n",
       "    <tr>\n",
       "      <th>9999</th>\n",
       "      <td>صورة تظهر إصابة أربعة متطوعين بشلل نصفي في الو...</td>\n",
       "      <td>0</td>\n",
       "      <td>صور ظهر صوب ربع طوع شلل نصف وجه لقق قوح وزر</td>\n",
       "      <td>43</td>\n",
       "      <td>11</td>\n",
       "    </tr>\n",
       "  </tbody>\n",
       "</table>\n",
       "<p>10000 rows × 5 columns</p>\n",
       "</div>"
      ],
      "text/plain": [
       "                                                   text  label  \\\n",
       "0      خلال_ايام   إعلان الغاء الدوري   السعودي   ال...      0   \n",
       "1     الأعمار الحقيقية لأشهر الفنانات العربيات    بي...      1   \n",
       "2     قال بحث جديد إن الشوكولا الداكنة تفيد مثل الشم...      1   \n",
       "3     قالت  أخبار اليوم  في عددها الصادر غدا أن حميد...      1   \n",
       "4     أخبارنا المغربية     أفاد بلاغ لوزراة الداخلية...      1   \n",
       "...                                                 ...    ...   \n",
       "9995  لماذا يا اله  لماذا  أنت تسأل و و تساءل أيضا ك...      0   \n",
       "9996  ابنة المغني مايكل جاكسون   والدي مات مقتولا   ...      1   \n",
       "9997  سامسونج تطلق أول تلفاز شفاف في العالم في حركة ...      0   \n",
       "9998     محافظ تركي يلوح بـ ذو الفقار  متوعدا بدخول ...      0   \n",
       "9999  صورة تظهر إصابة أربعة متطوعين بشلل نصفي في الو...      0   \n",
       "\n",
       "                                                  text1  news_len  \\\n",
       "0                                                  خلال         4   \n",
       "1     عمر حقق شهر فنن عرب رفض فنن كشف عمر حقق ءخر به...       194   \n",
       "2     قول حثث جدد شكل دكن فيد لشمندر بنجر حسس ءدد رض...       803   \n",
       "3     قلت خبر لوم عدد صدر غدا حمد شبط لقق غلب عقد يو...       417   \n",
       "4     خبر غرب فود لوغ وزر دخل حزب ءصل عصر و حزب عدل ...        93   \n",
       "...                                                 ...       ...   \n",
       "9995  لهه سءل و و سءل كتب صفو صرعب لهه دوع تكك لءم س...      1118   \n",
       "9996  بنن لمغ مكل جكس ولد موت قتل قلت بنن مكل جكس لح...       405   \n",
       "9997  مسنج طلق أول لفز شفف علم حرك جرء قوم مسنج مساء...       436   \n",
       "9998            حفظ ركك لوح بــ فقر وعد دخل وصل قدس صدر        39   \n",
       "9999        صور ظهر صوب ربع طوع شلل نصف وجه لقق قوح وزر        43   \n",
       "\n",
       "      news_num_word  \n",
       "0                 1  \n",
       "1                48  \n",
       "2               196  \n",
       "3               106  \n",
       "4                25  \n",
       "...             ...  \n",
       "9995            286  \n",
       "9996            101  \n",
       "9997            105  \n",
       "9998             10  \n",
       "9999             11  \n",
       "\n",
       "[10000 rows x 5 columns]"
      ]
     },
     "execution_count": 24,
     "metadata": {},
     "output_type": "execute_result"
    }
   ],
   "source": [
    "df['news_len']=df['text1'].str.len()\n",
    "df['news_num_word']=df['text1'].apply(lambda row: len(row.split()))\n",
    "df"
   ]
  },
  {
   "cell_type": "code",
   "execution_count": 25,
   "id": "89db7d1b",
   "metadata": {},
   "outputs": [],
   "source": [
    "new_df=df.copy()\n",
    "new_df=new_df.drop(columns=['text','text1','label'])"
   ]
  },
  {
   "cell_type": "markdown",
   "id": "34d80676",
   "metadata": {},
   "source": [
    "# Naive Bayes with Tf_Idf"
   ]
  },
  {
   "cell_type": "code",
   "execution_count": 100,
   "id": "573e6e08",
   "metadata": {},
   "outputs": [],
   "source": [
    "from sklearn.feature_extraction.text import TfidfVectorizer\n",
    "from sklearn.model_selection import train_test_split\n",
    "#feature extraction\n",
    "tfidf_vec=TfidfVectorizer()\n",
    "tfidf_features=tfidf_vec.fit_transform(df['text1']).toarray()\n",
    "\n",
    "temp_df=pd.DataFrame(tfidf_features,index=df.index)\n",
    "\n",
    "final_df=pd.concat([new_df,temp_df],axis=1)\n",
    "#split data into train and test\n",
    "x_train,x_test,y_train,y_test=train_test_split(final_df.iloc[:,:].values,df['label'],test_size=0.25)"
   ]
  },
  {
   "cell_type": "code",
   "execution_count": 101,
   "id": "43d1f864",
   "metadata": {},
   "outputs": [
    {
     "name": "stdout",
     "output_type": "stream",
     "text": [
      "(7500, 13334)\n",
      "(2500, 13334)\n"
     ]
    }
   ],
   "source": [
    "print(x_train.shape)\n",
    "print(x_test.shape)"
   ]
  },
  {
   "cell_type": "code",
   "execution_count": 102,
   "id": "068a5cf7",
   "metadata": {},
   "outputs": [
    {
     "data": {
      "text/plain": [
       "MultinomialNB()"
      ]
     },
     "execution_count": 102,
     "metadata": {},
     "output_type": "execute_result"
    }
   ],
   "source": [
    "# classifier\n",
    "from sklearn.naive_bayes import MultinomialNB\n",
    "tfidf_model=MultinomialNB()\n",
    "tfidf_model.fit(x_train,y_train)"
   ]
  },
  {
   "cell_type": "markdown",
   "id": "018677c0",
   "metadata": {},
   "source": [
    "# accurcy"
   ]
  },
  {
   "cell_type": "code",
   "execution_count": 103,
   "id": "e91c97d0",
   "metadata": {},
   "outputs": [
    {
     "name": "stdout",
     "output_type": "stream",
     "text": [
      "0.8508\n"
     ]
    }
   ],
   "source": [
    "import numpy as np\n",
    "tfidf_predected=tfidf_model.predict(x_test)\n",
    "print(np.mean(tfidf_predected==y_test))"
   ]
  },
  {
   "cell_type": "markdown",
   "id": "b14d8e09",
   "metadata": {},
   "source": [
    "# confusion matrix"
   ]
  },
  {
   "cell_type": "code",
   "execution_count": 104,
   "id": "6bceeaa3",
   "metadata": {},
   "outputs": [
    {
     "name": "stdout",
     "output_type": "stream",
     "text": [
      "[[ 904  320]\n",
      " [  53 1223]]\n"
     ]
    }
   ],
   "source": [
    "from sklearn.metrics import confusion_matrix\n",
    "print(confusion_matrix(y_test,tfidf_predected))"
   ]
  },
  {
   "cell_type": "markdown",
   "id": "34ca83b3",
   "metadata": {},
   "source": [
    "# Random Forest with Tf_Idf"
   ]
  },
  {
   "cell_type": "code",
   "execution_count": 105,
   "id": "13f9e524",
   "metadata": {},
   "outputs": [
    {
     "data": {
      "text/plain": [
       "0.94"
      ]
     },
     "execution_count": 105,
     "metadata": {},
     "output_type": "execute_result"
    }
   ],
   "source": [
    "from sklearn.ensemble import RandomForestClassifier\n",
    "from sklearn.metrics import accuracy_score\n",
    "rf = RandomForestClassifier()\n",
    "rf.fit(x_train,y_train)\n",
    "y_pred = rf.predict(x_test)\n",
    "accuracy_score(y_test,y_pred)"
   ]
  },
  {
   "cell_type": "markdown",
   "id": "334ab639",
   "metadata": {},
   "source": [
    "# Naive Bayes with Binary Encoding"
   ]
  },
  {
   "cell_type": "code",
   "execution_count": 74,
   "id": "3ddf4628",
   "metadata": {},
   "outputs": [],
   "source": [
    "from sklearn.feature_extraction.text import CountVectorizer\n",
    "binary_vec=CountVectorizer(binary=True)\n",
    "binary_features=binary_vec.fit_transform(df['text1']).toarray() #Learn the vocabulary dictionary and return document-term matrix\n",
    "#{'':51}\n",
    "\n",
    "temp_df=pd.DataFrame(binary_features,index=df.index)\n",
    "\n",
    "final_df=pd.concat([new_df,temp_df],axis=1)\n",
    "#split data into train and test\n",
    "x_train,x_test,y_train,y_test=train_test_split(final_df.iloc[:,:].values,df['label'],test_size=0.2)"
   ]
  },
  {
   "cell_type": "code",
   "execution_count": 75,
   "id": "1767ad85",
   "metadata": {},
   "outputs": [
    {
     "data": {
      "text/plain": [
       "MultinomialNB()"
      ]
     },
     "execution_count": 75,
     "metadata": {},
     "output_type": "execute_result"
    }
   ],
   "source": [
    "# classefier\n",
    "binary_model=MultinomialNB()\n",
    "binary_model.fit(x_train,y_train)"
   ]
  },
  {
   "cell_type": "markdown",
   "id": "9c5cdf7e",
   "metadata": {},
   "source": [
    "# accurcy"
   ]
  },
  {
   "cell_type": "code",
   "execution_count": 76,
   "id": "e7cbae30",
   "metadata": {},
   "outputs": [
    {
     "name": "stdout",
     "output_type": "stream",
     "text": [
      "0.9115\n"
     ]
    }
   ],
   "source": [
    "binary_predicted=binary_model.predict(x_test)\n",
    "# 1\n",
    "print(np.mean(binary_predicted==y_test))"
   ]
  },
  {
   "cell_type": "markdown",
   "id": "8e0495b9",
   "metadata": {},
   "source": [
    "# Confusion Matrix"
   ]
  },
  {
   "cell_type": "code",
   "execution_count": 77,
   "id": "d4d19288",
   "metadata": {},
   "outputs": [
    {
     "name": "stdout",
     "output_type": "stream",
     "text": [
      "[[861  44]\n",
      " [133 962]]\n"
     ]
    }
   ],
   "source": [
    "print(confusion_matrix(binary_predicted,y_test))"
   ]
  },
  {
   "cell_type": "markdown",
   "id": "d8a0fcf1",
   "metadata": {},
   "source": [
    "# Random Forest with Binary Encoding"
   ]
  },
  {
   "cell_type": "code",
   "execution_count": 78,
   "id": "af72c529",
   "metadata": {},
   "outputs": [
    {
     "data": {
      "text/plain": [
       "0.9325"
      ]
     },
     "execution_count": 78,
     "metadata": {},
     "output_type": "execute_result"
    }
   ],
   "source": [
    "rf = RandomForestClassifier()\n",
    "rf.fit(x_train,y_train)\n",
    "y_pred = rf.predict(x_test)\n",
    "accuracy_score(y_test,y_pred)"
   ]
  },
  {
   "cell_type": "markdown",
   "id": "9d792e84",
   "metadata": {},
   "source": [
    "# Naive Bayes with Counting"
   ]
  },
  {
   "cell_type": "code",
   "execution_count": 79,
   "id": "609ca511",
   "metadata": {},
   "outputs": [
    {
     "data": {
      "text/plain": [
       "MultinomialNB()"
      ]
     },
     "execution_count": 79,
     "metadata": {},
     "output_type": "execute_result"
    }
   ],
   "source": [
    "count_vec=CountVectorizer()\n",
    "count_features=count_vec.fit_transform(df['text1']).toarray()\n",
    "temp_df=pd.DataFrame(count_features,index=df.index)\n",
    "\n",
    "final_df=pd.concat([new_df,temp_df],axis=1)\n",
    "#split data into train and test\n",
    "x_train,x_test,y_train,y_test=train_test_split(final_df.iloc[:,:].values,df['label'],test_size=0.2)\n",
    "count_model=MultinomialNB()\n",
    "count_model.fit(x_train,y_train)\n"
   ]
  },
  {
   "cell_type": "markdown",
   "id": "68a2e8e8",
   "metadata": {},
   "source": [
    "# accurcy"
   ]
  },
  {
   "cell_type": "code",
   "execution_count": 80,
   "id": "a389e347",
   "metadata": {},
   "outputs": [
    {
     "name": "stdout",
     "output_type": "stream",
     "text": [
      "0.9075\n"
     ]
    }
   ],
   "source": [
    "count_predicted=count_model.predict(x_test)\n",
    "print(np.mean(count_predicted==y_test))"
   ]
  },
  {
   "cell_type": "markdown",
   "id": "9655243e",
   "metadata": {},
   "source": [
    "# Confusion Matrix"
   ]
  },
  {
   "cell_type": "code",
   "execution_count": 81,
   "id": "0dff6243",
   "metadata": {
    "scrolled": true
   },
   "outputs": [
    {
     "name": "stdout",
     "output_type": "stream",
     "text": [
      "[[853  35]\n",
      " [150 962]]\n"
     ]
    }
   ],
   "source": [
    "print(confusion_matrix(count_predicted,y_test))"
   ]
  },
  {
   "cell_type": "markdown",
   "id": "30c96f66",
   "metadata": {},
   "source": [
    "# Random Forest with Counting"
   ]
  },
  {
   "cell_type": "code",
   "execution_count": 82,
   "id": "e21b1d6c",
   "metadata": {},
   "outputs": [
    {
     "data": {
      "text/plain": [
       "0.9365"
      ]
     },
     "execution_count": 82,
     "metadata": {},
     "output_type": "execute_result"
    }
   ],
   "source": [
    "rf = RandomForestClassifier()\n",
    "rf.fit(x_train,y_train)\n",
    "y_pred = rf.predict(x_test)\n",
    "accuracy_score(y_test,y_pred)"
   ]
  },
  {
   "cell_type": "code",
   "execution_count": null,
   "id": "0d35c0f5",
   "metadata": {},
   "outputs": [],
   "source": []
  },
  {
   "cell_type": "code",
   "execution_count": null,
   "id": "638eab98",
   "metadata": {},
   "outputs": [],
   "source": []
  }
 ],
 "metadata": {
  "kernelspec": {
   "display_name": "Python 3",
   "language": "python",
   "name": "python3"
  },
  "language_info": {
   "codemirror_mode": {
    "name": "ipython",
    "version": 3
   },
   "file_extension": ".py",
   "mimetype": "text/x-python",
   "name": "python",
   "nbconvert_exporter": "python",
   "pygments_lexer": "ipython3",
   "version": "3.8.8"
  }
 },
 "nbformat": 4,
 "nbformat_minor": 5
}
