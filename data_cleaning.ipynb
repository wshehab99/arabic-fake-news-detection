{
 "cells": [
  {
   "cell_type": "code",
   "execution_count": 1,
   "id": "867b9756",
   "metadata": {},
   "outputs": [],
   "source": [
    "import pandas as pd"
   ]
  },
  {
   "cell_type": "code",
   "execution_count": 2,
   "id": "7a0a0637",
   "metadata": {},
   "outputs": [],
   "source": [
    "culture=pd.read_csv('E:/nbn/Culture_topic.csv',encoding='utf-8')"
   ]
  },
  {
   "cell_type": "code",
   "execution_count": 3,
   "id": "732d0057",
   "metadata": {},
   "outputs": [],
   "source": [
    "finance=pd.read_csv('E:/nbn/Finance_Topic.csv',encoding='utf-8')\n",
    "medical=pd.read_csv('E:/nbn/Medical_Topic.csv',encoding='utf-8')\n",
    "politics=pd.read_csv('E:/nbn/Politics_Topic.csv',encoding='utf-8')\n",
    "religion=pd.read_csv('E:/nbn/Religion_Topic.csv',encoding='utf-8')\n",
    "sports=pd.read_csv('E:/nbn/Sports_Topic.csv',encoding='utf-8')\n",
    "tech=pd.read_csv('E:/nbn/Tech_Topic.csv',encoding='utf-8')"
   ]
  },
  {
   "cell_type": "code",
   "execution_count": 4,
   "id": "5ec1e1fd",
   "metadata": {},
   "outputs": [
    {
     "data": {
      "text/html": [
       "<div>\n",
       "<style scoped>\n",
       "    .dataframe tbody tr th:only-of-type {\n",
       "        vertical-align: middle;\n",
       "    }\n",
       "\n",
       "    .dataframe tbody tr th {\n",
       "        vertical-align: top;\n",
       "    }\n",
       "\n",
       "    .dataframe thead th {\n",
       "        text-align: right;\n",
       "    }\n",
       "</style>\n",
       "<table border=\"1\" class=\"dataframe\">\n",
       "  <thead>\n",
       "    <tr style=\"text-align: right;\">\n",
       "      <th></th>\n",
       "      <th>text</th>\n",
       "      <th>label</th>\n",
       "    </tr>\n",
       "  </thead>\n",
       "  <tbody>\n",
       "    <tr>\n",
       "      <th>0</th>\n",
       "      <td>يحيي كل من العروسي وعواطف وعمار والعنبري أمجاد...</td>\n",
       "      <td>Culture</td>\n",
       "    </tr>\n",
       "    <tr>\n",
       "      <th>1</th>\n",
       "      <td>أخبارنا المغربية ـ هدى جميعي\\nتحول فنان مغربي ...</td>\n",
       "      <td>Culture</td>\n",
       "    </tr>\n",
       "    <tr>\n",
       "      <th>2</th>\n",
       "      <td>بالفيديو : الفنان الشعبي العمري يتهم الداودي و...</td>\n",
       "      <td>Culture</td>\n",
       "    </tr>\n",
       "    <tr>\n",
       "      <th>3</th>\n",
       "      <td>عبدالاله بوسحابة : اخبارنا المغربية\\nعلمنا في ...</td>\n",
       "      <td>Culture</td>\n",
       "    </tr>\n",
       "    <tr>\n",
       "      <th>4</th>\n",
       "      <td>أخبارنا المغربية : حنان سلامة\\nكعادته كلما تعل...</td>\n",
       "      <td>Culture</td>\n",
       "    </tr>\n",
       "  </tbody>\n",
       "</table>\n",
       "</div>"
      ],
      "text/plain": [
       "                                                text    label\n",
       "0  يحيي كل من العروسي وعواطف وعمار والعنبري أمجاد...  Culture\n",
       "1  أخبارنا المغربية ـ هدى جميعي\\nتحول فنان مغربي ...  Culture\n",
       "2  بالفيديو : الفنان الشعبي العمري يتهم الداودي و...  Culture\n",
       "3  عبدالاله بوسحابة : اخبارنا المغربية\\nعلمنا في ...  Culture\n",
       "4  أخبارنا المغربية : حنان سلامة\\nكعادته كلما تعل...  Culture"
      ]
     },
     "execution_count": 4,
     "metadata": {},
     "output_type": "execute_result"
    }
   ],
   "source": [
    "culture.head()"
   ]
  },
  {
   "cell_type": "code",
   "execution_count": 5,
   "id": "4d78739b",
   "metadata": {},
   "outputs": [
    {
     "data": {
      "text/html": [
       "<div>\n",
       "<style scoped>\n",
       "    .dataframe tbody tr th:only-of-type {\n",
       "        vertical-align: middle;\n",
       "    }\n",
       "\n",
       "    .dataframe tbody tr th {\n",
       "        vertical-align: top;\n",
       "    }\n",
       "\n",
       "    .dataframe thead th {\n",
       "        text-align: right;\n",
       "    }\n",
       "</style>\n",
       "<table border=\"1\" class=\"dataframe\">\n",
       "  <thead>\n",
       "    <tr style=\"text-align: right;\">\n",
       "      <th></th>\n",
       "      <th>text</th>\n",
       "      <th>label</th>\n",
       "    </tr>\n",
       "  </thead>\n",
       "  <tbody>\n",
       "    <tr>\n",
       "      <th>0</th>\n",
       "      <td>نورالدين ثلاج-أخبارنا المغربية\\nاحتجت المعارضة...</td>\n",
       "      <td>Finace</td>\n",
       "    </tr>\n",
       "    <tr>\n",
       "      <th>1</th>\n",
       "      <td>أخبارنا المغربية : إلهام آيت الحاج\\nيبدو أن تخ...</td>\n",
       "      <td>Finace</td>\n",
       "    </tr>\n",
       "    <tr>\n",
       "      <th>2</th>\n",
       "      <td>أخبارنا المغربية ــ متابعة\\n \\nأيام قليلة،‮ ‬و...</td>\n",
       "      <td>Finace</td>\n",
       "    </tr>\n",
       "    <tr>\n",
       "      <th>3</th>\n",
       "      <td>أخبارنا المغربية \\nأمرت جهات عليا بتوقيف مشاري...</td>\n",
       "      <td>Finace</td>\n",
       "    </tr>\n",
       "    <tr>\n",
       "      <th>4</th>\n",
       "      <td>أخبارنا المغربية ـ محمد اسليم   \\nأكد عبد الله...</td>\n",
       "      <td>Finace</td>\n",
       "    </tr>\n",
       "  </tbody>\n",
       "</table>\n",
       "</div>"
      ],
      "text/plain": [
       "                                                text   label\n",
       "0  نورالدين ثلاج-أخبارنا المغربية\\nاحتجت المعارضة...  Finace\n",
       "1  أخبارنا المغربية : إلهام آيت الحاج\\nيبدو أن تخ...  Finace\n",
       "2  أخبارنا المغربية ــ متابعة\\n \\nأيام قليلة،‮ ‬و...  Finace\n",
       "3  أخبارنا المغربية \\nأمرت جهات عليا بتوقيف مشاري...  Finace\n",
       "4  أخبارنا المغربية ـ محمد اسليم   \\nأكد عبد الله...  Finace"
      ]
     },
     "execution_count": 5,
     "metadata": {},
     "output_type": "execute_result"
    }
   ],
   "source": [
    "finance.head()"
   ]
  },
  {
   "cell_type": "code",
   "execution_count": 6,
   "id": "dc1a2f16",
   "metadata": {},
   "outputs": [
    {
     "data": {
      "text/html": [
       "<div>\n",
       "<style scoped>\n",
       "    .dataframe tbody tr th:only-of-type {\n",
       "        vertical-align: middle;\n",
       "    }\n",
       "\n",
       "    .dataframe tbody tr th {\n",
       "        vertical-align: top;\n",
       "    }\n",
       "\n",
       "    .dataframe thead th {\n",
       "        text-align: right;\n",
       "    }\n",
       "</style>\n",
       "<table border=\"1\" class=\"dataframe\">\n",
       "  <thead>\n",
       "    <tr style=\"text-align: right;\">\n",
       "      <th></th>\n",
       "      <th>text</th>\n",
       "      <th>label</th>\n",
       "    </tr>\n",
       "  </thead>\n",
       "  <tbody>\n",
       "    <tr>\n",
       "      <th>0</th>\n",
       "      <td>شباط : بنكيران ربط استمرارية حكومته بإلغاء محض...</td>\n",
       "      <td>Politics</td>\n",
       "    </tr>\n",
       "    <tr>\n",
       "      <th>1</th>\n",
       "      <td>أخبارنا المغربية : سناء الوردي\\nذكرت مصادر صحا...</td>\n",
       "      <td>Politics</td>\n",
       "    </tr>\n",
       "    <tr>\n",
       "      <th>2</th>\n",
       "      <td>متابعة : يونس الشيخ\\nأكد اوبير فيردن، عضو الحز...</td>\n",
       "      <td>Politics</td>\n",
       "    </tr>\n",
       "    <tr>\n",
       "      <th>3</th>\n",
       "      <td>أخبارنا المغربية:أبو فراس\\nيدافع مجموعة من الب...</td>\n",
       "      <td>Politics</td>\n",
       "    </tr>\n",
       "    <tr>\n",
       "      <th>4</th>\n",
       "      <td>\"البـام\" يطالب بتحقيق قضائي بسبب تشكيك \"البيجي...</td>\n",
       "      <td>Politics</td>\n",
       "    </tr>\n",
       "  </tbody>\n",
       "</table>\n",
       "</div>"
      ],
      "text/plain": [
       "                                                text     label\n",
       "0  شباط : بنكيران ربط استمرارية حكومته بإلغاء محض...  Politics\n",
       "1  أخبارنا المغربية : سناء الوردي\\nذكرت مصادر صحا...  Politics\n",
       "2  متابعة : يونس الشيخ\\nأكد اوبير فيردن، عضو الحز...  Politics\n",
       "3  أخبارنا المغربية:أبو فراس\\nيدافع مجموعة من الب...  Politics\n",
       "4  \"البـام\" يطالب بتحقيق قضائي بسبب تشكيك \"البيجي...  Politics"
      ]
     },
     "execution_count": 6,
     "metadata": {},
     "output_type": "execute_result"
    }
   ],
   "source": [
    "politics.head()"
   ]
  },
  {
   "cell_type": "code",
   "execution_count": 7,
   "id": "a0c76ea5",
   "metadata": {},
   "outputs": [
    {
     "data": {
      "text/html": [
       "<div>\n",
       "<style scoped>\n",
       "    .dataframe tbody tr th:only-of-type {\n",
       "        vertical-align: middle;\n",
       "    }\n",
       "\n",
       "    .dataframe tbody tr th {\n",
       "        vertical-align: top;\n",
       "    }\n",
       "\n",
       "    .dataframe thead th {\n",
       "        text-align: right;\n",
       "    }\n",
       "</style>\n",
       "<table border=\"1\" class=\"dataframe\">\n",
       "  <thead>\n",
       "    <tr style=\"text-align: right;\">\n",
       "      <th></th>\n",
       "      <th>text</th>\n",
       "      <th>label</th>\n",
       "    </tr>\n",
       "  </thead>\n",
       "  <tbody>\n",
       "    <tr>\n",
       "      <th>0</th>\n",
       "      <td>شكّل اكتشاف زمر الدم الأربعة في مطلع القرن الم...</td>\n",
       "      <td>Medical</td>\n",
       "    </tr>\n",
       "    <tr>\n",
       "      <th>1</th>\n",
       "      <td>وجدت دراسة جديدة أن المشي لمدة 30 دقيقة أسبوعي...</td>\n",
       "      <td>Medical</td>\n",
       "    </tr>\n",
       "    <tr>\n",
       "      <th>2</th>\n",
       "      <td>أفادت مجلة \"إيلي\" الألمانية بأن الأغذية البنفس...</td>\n",
       "      <td>Medical</td>\n",
       "    </tr>\n",
       "    <tr>\n",
       "      <th>3</th>\n",
       "      <td>للرجال الذين يودون دخول مضمار الأبوة عليهم أن ...</td>\n",
       "      <td>Medical</td>\n",
       "    </tr>\n",
       "    <tr>\n",
       "      <th>4</th>\n",
       "      <td>\"مضغ العلكة ثلاث مرات في اليوم\"، تبدو هذه العب...</td>\n",
       "      <td>Medical</td>\n",
       "    </tr>\n",
       "  </tbody>\n",
       "</table>\n",
       "</div>"
      ],
      "text/plain": [
       "                                                text    label\n",
       "0  شكّل اكتشاف زمر الدم الأربعة في مطلع القرن الم...  Medical\n",
       "1  وجدت دراسة جديدة أن المشي لمدة 30 دقيقة أسبوعي...  Medical\n",
       "2  أفادت مجلة \"إيلي\" الألمانية بأن الأغذية البنفس...  Medical\n",
       "3  للرجال الذين يودون دخول مضمار الأبوة عليهم أن ...  Medical\n",
       "4  \"مضغ العلكة ثلاث مرات في اليوم\"، تبدو هذه العب...  Medical"
      ]
     },
     "execution_count": 7,
     "metadata": {},
     "output_type": "execute_result"
    }
   ],
   "source": [
    "medical.head()"
   ]
  },
  {
   "cell_type": "code",
   "execution_count": 8,
   "id": "5f74d67a",
   "metadata": {},
   "outputs": [
    {
     "data": {
      "text/html": [
       "<div>\n",
       "<style scoped>\n",
       "    .dataframe tbody tr th:only-of-type {\n",
       "        vertical-align: middle;\n",
       "    }\n",
       "\n",
       "    .dataframe tbody tr th {\n",
       "        vertical-align: top;\n",
       "    }\n",
       "\n",
       "    .dataframe thead th {\n",
       "        text-align: right;\n",
       "    }\n",
       "</style>\n",
       "<table border=\"1\" class=\"dataframe\">\n",
       "  <thead>\n",
       "    <tr style=\"text-align: right;\">\n",
       "      <th></th>\n",
       "      <th>text</th>\n",
       "      <th>label</th>\n",
       "    </tr>\n",
       "  </thead>\n",
       "  <tbody>\n",
       "    <tr>\n",
       "      <th>0</th>\n",
       "      <td>\\nأخبارنا المغربية:\\nأعلن فيرناندو سانتوس، مدر...</td>\n",
       "      <td>Sports</td>\n",
       "    </tr>\n",
       "    <tr>\n",
       "      <th>1</th>\n",
       "      <td>أخبارنا المغربية : علاء المصطفاوي\\nبعدما كثر ا...</td>\n",
       "      <td>Sports</td>\n",
       "    </tr>\n",
       "    <tr>\n",
       "      <th>2</th>\n",
       "      <td>أخبارنا المغربية:\\nأعلن فيرناندو سانتوس، مدرب ...</td>\n",
       "      <td>Sports</td>\n",
       "    </tr>\n",
       "    <tr>\n",
       "      <th>3</th>\n",
       "      <td>فضيحة مالية جديدة تهز برشلونة و السبب دائما ني...</td>\n",
       "      <td>Sports</td>\n",
       "    </tr>\n",
       "    <tr>\n",
       "      <th>4</th>\n",
       "      <td>الاتحاد الإسباني يضع حكم مباراة ريال مدريد وال...</td>\n",
       "      <td>Sports</td>\n",
       "    </tr>\n",
       "  </tbody>\n",
       "</table>\n",
       "</div>"
      ],
      "text/plain": [
       "                                                text   label\n",
       "0  \\nأخبارنا المغربية:\\nأعلن فيرناندو سانتوس، مدر...  Sports\n",
       "1  أخبارنا المغربية : علاء المصطفاوي\\nبعدما كثر ا...  Sports\n",
       "2  أخبارنا المغربية:\\nأعلن فيرناندو سانتوس، مدرب ...  Sports\n",
       "3  فضيحة مالية جديدة تهز برشلونة و السبب دائما ني...  Sports\n",
       "4  الاتحاد الإسباني يضع حكم مباراة ريال مدريد وال...  Sports"
      ]
     },
     "execution_count": 8,
     "metadata": {},
     "output_type": "execute_result"
    }
   ],
   "source": [
    "sports.head()"
   ]
  },
  {
   "cell_type": "code",
   "execution_count": 9,
   "id": "c2b2ad83",
   "metadata": {},
   "outputs": [
    {
     "data": {
      "text/html": [
       "<div>\n",
       "<style scoped>\n",
       "    .dataframe tbody tr th:only-of-type {\n",
       "        vertical-align: middle;\n",
       "    }\n",
       "\n",
       "    .dataframe tbody tr th {\n",
       "        vertical-align: top;\n",
       "    }\n",
       "\n",
       "    .dataframe thead th {\n",
       "        text-align: right;\n",
       "    }\n",
       "</style>\n",
       "<table border=\"1\" class=\"dataframe\">\n",
       "  <thead>\n",
       "    <tr style=\"text-align: right;\">\n",
       "      <th></th>\n",
       "      <th>text</th>\n",
       "      <th>label</th>\n",
       "    </tr>\n",
       "  </thead>\n",
       "  <tbody>\n",
       "    <tr>\n",
       "      <th>0</th>\n",
       "      <td>صيام الفوائت\\nزوجتي حامل وعليها بعض الأيام من ...</td>\n",
       "      <td>Religion</td>\n",
       "    </tr>\n",
       "    <tr>\n",
       "      <th>1</th>\n",
       "      <td>الحمد لله، والصلاة والسلام على رسول الله، وآله...</td>\n",
       "      <td>Religion</td>\n",
       "    </tr>\n",
       "    <tr>\n",
       "      <th>2</th>\n",
       "      <td>من نوائب الدهر في عصرنا الحالي الغُلو في المهو...</td>\n",
       "      <td>Religion</td>\n",
       "    </tr>\n",
       "    <tr>\n",
       "      <th>3</th>\n",
       "      <td>سار الخلفاء الراشدون على هدي النبي صلى الله عل...</td>\n",
       "      <td>Religion</td>\n",
       "    </tr>\n",
       "    <tr>\n",
       "      <th>4</th>\n",
       "      <td>هل سبق أن قرأتم عن شيطان العين ؟ موضوع مهم يست...</td>\n",
       "      <td>Religion</td>\n",
       "    </tr>\n",
       "  </tbody>\n",
       "</table>\n",
       "</div>"
      ],
      "text/plain": [
       "                                                text     label\n",
       "0  صيام الفوائت\\nزوجتي حامل وعليها بعض الأيام من ...  Religion\n",
       "1  الحمد لله، والصلاة والسلام على رسول الله، وآله...  Religion\n",
       "2  من نوائب الدهر في عصرنا الحالي الغُلو في المهو...  Religion\n",
       "3  سار الخلفاء الراشدون على هدي النبي صلى الله عل...  Religion\n",
       "4  هل سبق أن قرأتم عن شيطان العين ؟ موضوع مهم يست...  Religion"
      ]
     },
     "execution_count": 9,
     "metadata": {},
     "output_type": "execute_result"
    }
   ],
   "source": [
    "religion.head()"
   ]
  },
  {
   "cell_type": "code",
   "execution_count": 10,
   "id": "42d5ed35",
   "metadata": {},
   "outputs": [
    {
     "data": {
      "text/html": [
       "<div>\n",
       "<style scoped>\n",
       "    .dataframe tbody tr th:only-of-type {\n",
       "        vertical-align: middle;\n",
       "    }\n",
       "\n",
       "    .dataframe tbody tr th {\n",
       "        vertical-align: top;\n",
       "    }\n",
       "\n",
       "    .dataframe thead th {\n",
       "        text-align: right;\n",
       "    }\n",
       "</style>\n",
       "<table border=\"1\" class=\"dataframe\">\n",
       "  <thead>\n",
       "    <tr style=\"text-align: right;\">\n",
       "      <th></th>\n",
       "      <th>text</th>\n",
       "      <th>label</th>\n",
       "    </tr>\n",
       "  </thead>\n",
       "  <tbody>\n",
       "    <tr>\n",
       "      <th>0</th>\n",
       "      <td>أطلقت خدمة التراسل الفوري واتساب، اليوم الجمعة...</td>\n",
       "      <td>Tech</td>\n",
       "    </tr>\n",
       "    <tr>\n",
       "      <th>1</th>\n",
       "      <td>حصلت شركة سامسونغ على حق براءة اختراع جديدة لآ...</td>\n",
       "      <td>Tech</td>\n",
       "    </tr>\n",
       "    <tr>\n",
       "      <th>2</th>\n",
       "      <td>ظهر تطبيق جديد للأجهزة الذكية التي تعمل بنظام ...</td>\n",
       "      <td>Tech</td>\n",
       "    </tr>\n",
       "    <tr>\n",
       "      <th>3</th>\n",
       "      <td>أشارت بوابة الاتصالات الألمانية \"هايزه.دي\" إلى...</td>\n",
       "      <td>Tech</td>\n",
       "    </tr>\n",
       "    <tr>\n",
       "      <th>4</th>\n",
       "      <td>الان يمكنكم تحميل تطبيق \"أخبارنا\" الخاص بهواتف...</td>\n",
       "      <td>Tech</td>\n",
       "    </tr>\n",
       "  </tbody>\n",
       "</table>\n",
       "</div>"
      ],
      "text/plain": [
       "                                                text label\n",
       "0  أطلقت خدمة التراسل الفوري واتساب، اليوم الجمعة...  Tech\n",
       "1  حصلت شركة سامسونغ على حق براءة اختراع جديدة لآ...  Tech\n",
       "2  ظهر تطبيق جديد للأجهزة الذكية التي تعمل بنظام ...  Tech\n",
       "3  أشارت بوابة الاتصالات الألمانية \"هايزه.دي\" إلى...  Tech\n",
       "4  الان يمكنكم تحميل تطبيق \"أخبارنا\" الخاص بهواتف...  Tech"
      ]
     },
     "execution_count": 10,
     "metadata": {},
     "output_type": "execute_result"
    }
   ],
   "source": [
    "tech.head()"
   ]
  },
  {
   "cell_type": "code",
   "execution_count": 31,
   "id": "ecb33ac4",
   "metadata": {},
   "outputs": [
    {
     "data": {
      "text/plain": [
       "78428"
      ]
     },
     "execution_count": 31,
     "metadata": {},
     "output_type": "execute_result"
    }
   ],
   "source": [
    "real_news=pd.concat([culture,finance,medical,religion,sports,tech,politics])\n",
    "len(real_news)"
   ]
  },
  {
   "cell_type": "code",
   "execution_count": 32,
   "id": "9e6e3887",
   "metadata": {},
   "outputs": [
    {
     "data": {
      "text/html": [
       "<div>\n",
       "<style scoped>\n",
       "    .dataframe tbody tr th:only-of-type {\n",
       "        vertical-align: middle;\n",
       "    }\n",
       "\n",
       "    .dataframe tbody tr th {\n",
       "        vertical-align: top;\n",
       "    }\n",
       "\n",
       "    .dataframe thead th {\n",
       "        text-align: right;\n",
       "    }\n",
       "</style>\n",
       "<table border=\"1\" class=\"dataframe\">\n",
       "  <thead>\n",
       "    <tr style=\"text-align: right;\">\n",
       "      <th></th>\n",
       "      <th>text</th>\n",
       "      <th>label</th>\n",
       "    </tr>\n",
       "  </thead>\n",
       "  <tbody>\n",
       "    <tr>\n",
       "      <th>0</th>\n",
       "      <td>يحيي كل من العروسي وعواطف وعمار والعنبري أمجاد...</td>\n",
       "      <td>Culture</td>\n",
       "    </tr>\n",
       "    <tr>\n",
       "      <th>1</th>\n",
       "      <td>أخبارنا المغربية ـ هدى جميعي\\nتحول فنان مغربي ...</td>\n",
       "      <td>Culture</td>\n",
       "    </tr>\n",
       "    <tr>\n",
       "      <th>2</th>\n",
       "      <td>بالفيديو : الفنان الشعبي العمري يتهم الداودي و...</td>\n",
       "      <td>Culture</td>\n",
       "    </tr>\n",
       "    <tr>\n",
       "      <th>3</th>\n",
       "      <td>عبدالاله بوسحابة : اخبارنا المغربية\\nعلمنا في ...</td>\n",
       "      <td>Culture</td>\n",
       "    </tr>\n",
       "    <tr>\n",
       "      <th>4</th>\n",
       "      <td>أخبارنا المغربية : حنان سلامة\\nكعادته كلما تعل...</td>\n",
       "      <td>Culture</td>\n",
       "    </tr>\n",
       "  </tbody>\n",
       "</table>\n",
       "</div>"
      ],
      "text/plain": [
       "                                                text    label\n",
       "0  يحيي كل من العروسي وعواطف وعمار والعنبري أمجاد...  Culture\n",
       "1  أخبارنا المغربية ـ هدى جميعي\\nتحول فنان مغربي ...  Culture\n",
       "2  بالفيديو : الفنان الشعبي العمري يتهم الداودي و...  Culture\n",
       "3  عبدالاله بوسحابة : اخبارنا المغربية\\nعلمنا في ...  Culture\n",
       "4  أخبارنا المغربية : حنان سلامة\\nكعادته كلما تعل...  Culture"
      ]
     },
     "execution_count": 32,
     "metadata": {},
     "output_type": "execute_result"
    }
   ],
   "source": [
    "real_news.head()"
   ]
  },
  {
   "cell_type": "code",
   "execution_count": 33,
   "id": "c5328faf",
   "metadata": {},
   "outputs": [
    {
     "data": {
      "text/html": [
       "<div>\n",
       "<style scoped>\n",
       "    .dataframe tbody tr th:only-of-type {\n",
       "        vertical-align: middle;\n",
       "    }\n",
       "\n",
       "    .dataframe tbody tr th {\n",
       "        vertical-align: top;\n",
       "    }\n",
       "\n",
       "    .dataframe thead th {\n",
       "        text-align: right;\n",
       "    }\n",
       "</style>\n",
       "<table border=\"1\" class=\"dataframe\">\n",
       "  <thead>\n",
       "    <tr style=\"text-align: right;\">\n",
       "      <th></th>\n",
       "      <th>text</th>\n",
       "      <th>label</th>\n",
       "    </tr>\n",
       "  </thead>\n",
       "  <tbody>\n",
       "    <tr>\n",
       "      <th>13974</th>\n",
       "      <td>نورالدين ثلاج- أخبارنا المغربية\\n بعد الخطاب ا...</td>\n",
       "      <td>Politics</td>\n",
       "    </tr>\n",
       "    <tr>\n",
       "      <th>13975</th>\n",
       "      <td>أخبارنا المغربية ــ جمال مايس\\nيبدو أن عادل بن...</td>\n",
       "      <td>Politics</td>\n",
       "    </tr>\n",
       "    <tr>\n",
       "      <th>13976</th>\n",
       "      <td>ذ. عبد الصمد الكطابي\\n\\nكانت مدينة القصر الكبي...</td>\n",
       "      <td>Politics</td>\n",
       "    </tr>\n",
       "    <tr>\n",
       "      <th>13977</th>\n",
       "      <td>قال الوزير المنتدب المكلف بالعلاقات مع البرلما...</td>\n",
       "      <td>Politics</td>\n",
       "    </tr>\n",
       "    <tr>\n",
       "      <th>13978</th>\n",
       "      <td>أخبارنا المغربية: علاء المصطفاوي\\nخرج وزير الت...</td>\n",
       "      <td>Politics</td>\n",
       "    </tr>\n",
       "  </tbody>\n",
       "</table>\n",
       "</div>"
      ],
      "text/plain": [
       "                                                    text     label\n",
       "13974  نورالدين ثلاج- أخبارنا المغربية\\n بعد الخطاب ا...  Politics\n",
       "13975  أخبارنا المغربية ــ جمال مايس\\nيبدو أن عادل بن...  Politics\n",
       "13976  ذ. عبد الصمد الكطابي\\n\\nكانت مدينة القصر الكبي...  Politics\n",
       "13977  قال الوزير المنتدب المكلف بالعلاقات مع البرلما...  Politics\n",
       "13978  أخبارنا المغربية: علاء المصطفاوي\\nخرج وزير الت...  Politics"
      ]
     },
     "execution_count": 33,
     "metadata": {},
     "output_type": "execute_result"
    }
   ],
   "source": [
    "real_news.tail()"
   ]
  },
  {
   "cell_type": "markdown",
   "id": "29dc8303",
   "metadata": {},
   "source": [
    "# Shuffle df"
   ]
  },
  {
   "cell_type": "code",
   "execution_count": 34,
   "id": "1737e941",
   "metadata": {},
   "outputs": [],
   "source": [
    "from sklearn.utils import shuffle\n",
    "real_news=shuffle(real_news)"
   ]
  },
  {
   "cell_type": "code",
   "execution_count": 35,
   "id": "25a6e0dd",
   "metadata": {},
   "outputs": [
    {
     "data": {
      "text/html": [
       "<div>\n",
       "<style scoped>\n",
       "    .dataframe tbody tr th:only-of-type {\n",
       "        vertical-align: middle;\n",
       "    }\n",
       "\n",
       "    .dataframe tbody tr th {\n",
       "        vertical-align: top;\n",
       "    }\n",
       "\n",
       "    .dataframe thead th {\n",
       "        text-align: right;\n",
       "    }\n",
       "</style>\n",
       "<table border=\"1\" class=\"dataframe\">\n",
       "  <thead>\n",
       "    <tr style=\"text-align: right;\">\n",
       "      <th></th>\n",
       "      <th>text</th>\n",
       "      <th>label</th>\n",
       "    </tr>\n",
       "  </thead>\n",
       "  <tbody>\n",
       "    <tr>\n",
       "      <th>383</th>\n",
       "      <td>اقترح علماء في مدينة نوفوسيبيرسك الروسية طريقة...</td>\n",
       "      <td>Medical</td>\n",
       "    </tr>\n",
       "    <tr>\n",
       "      <th>11967</th>\n",
       "      <td>أطلقت خدمة التراسل المصور سناب شات أمس الجمعة،...</td>\n",
       "      <td>Tech</td>\n",
       "    </tr>\n",
       "    <tr>\n",
       "      <th>7301</th>\n",
       "      <td>تجتاح حمى لعبة \"بوكيمون غو\" العالم أجمع بما في...</td>\n",
       "      <td>Tech</td>\n",
       "    </tr>\n",
       "    <tr>\n",
       "      <th>8232</th>\n",
       "      <td>أخبارنا المغربية :الدار البيضاء\\n \\nبات ملف ال...</td>\n",
       "      <td>Finace</td>\n",
       "    </tr>\n",
       "    <tr>\n",
       "      <th>182</th>\n",
       "      <td>عبدالاله بوسحابة : اخبارنا المغربية\\nبعد أن ان...</td>\n",
       "      <td>Culture</td>\n",
       "    </tr>\n",
       "  </tbody>\n",
       "</table>\n",
       "</div>"
      ],
      "text/plain": [
       "                                                    text    label\n",
       "383    اقترح علماء في مدينة نوفوسيبيرسك الروسية طريقة...  Medical\n",
       "11967  أطلقت خدمة التراسل المصور سناب شات أمس الجمعة،...     Tech\n",
       "7301   تجتاح حمى لعبة \"بوكيمون غو\" العالم أجمع بما في...     Tech\n",
       "8232   أخبارنا المغربية :الدار البيضاء\\n \\nبات ملف ال...   Finace\n",
       "182    عبدالاله بوسحابة : اخبارنا المغربية\\nبعد أن ان...  Culture"
      ]
     },
     "execution_count": 35,
     "metadata": {},
     "output_type": "execute_result"
    }
   ],
   "source": [
    "real_news.head()"
   ]
  },
  {
   "cell_type": "code",
   "execution_count": 36,
   "id": "0f8b16a4",
   "metadata": {},
   "outputs": [
    {
     "data": {
      "text/html": [
       "<div>\n",
       "<style scoped>\n",
       "    .dataframe tbody tr th:only-of-type {\n",
       "        vertical-align: middle;\n",
       "    }\n",
       "\n",
       "    .dataframe tbody tr th {\n",
       "        vertical-align: top;\n",
       "    }\n",
       "\n",
       "    .dataframe thead th {\n",
       "        text-align: right;\n",
       "    }\n",
       "</style>\n",
       "<table border=\"1\" class=\"dataframe\">\n",
       "  <thead>\n",
       "    <tr style=\"text-align: right;\">\n",
       "      <th></th>\n",
       "      <th>text</th>\n",
       "      <th>label</th>\n",
       "    </tr>\n",
       "  </thead>\n",
       "  <tbody>\n",
       "    <tr>\n",
       "      <th>3764</th>\n",
       "      <td>الإيحاء بالغضب \\nكان النبي صلى الله عليه وسلم،...</td>\n",
       "      <td>Religion</td>\n",
       "    </tr>\n",
       "    <tr>\n",
       "      <th>1865</th>\n",
       "      <td>قال وزير التجهيز والنقل السيد عزيز رباح، اليوم...</td>\n",
       "      <td>Finace</td>\n",
       "    </tr>\n",
       "    <tr>\n",
       "      <th>2627</th>\n",
       "      <td>أعلن الاتحاد الفرنسي للتنس، برنار جيوديسيلي أن...</td>\n",
       "      <td>Sports</td>\n",
       "    </tr>\n",
       "    <tr>\n",
       "      <th>11298</th>\n",
       "      <td>بلاغ عاجل من الداخلية ..النتائج النهائية الرسم...</td>\n",
       "      <td>Politics</td>\n",
       "    </tr>\n",
       "    <tr>\n",
       "      <th>4863</th>\n",
       "      <td>كشف قيادي في العدالة والتنمية وجود حرب غير معل...</td>\n",
       "      <td>Politics</td>\n",
       "    </tr>\n",
       "  </tbody>\n",
       "</table>\n",
       "</div>"
      ],
      "text/plain": [
       "                                                    text     label\n",
       "3764   الإيحاء بالغضب \\nكان النبي صلى الله عليه وسلم،...  Religion\n",
       "1865   قال وزير التجهيز والنقل السيد عزيز رباح، اليوم...    Finace\n",
       "2627   أعلن الاتحاد الفرنسي للتنس، برنار جيوديسيلي أن...    Sports\n",
       "11298  بلاغ عاجل من الداخلية ..النتائج النهائية الرسم...  Politics\n",
       "4863   كشف قيادي في العدالة والتنمية وجود حرب غير معل...  Politics"
      ]
     },
     "execution_count": 36,
     "metadata": {},
     "output_type": "execute_result"
    }
   ],
   "source": [
    "real_news=shuffle(real_news)\n",
    "real_news.head()"
   ]
  },
  {
   "cell_type": "markdown",
   "id": "286206c3",
   "metadata": {},
   "source": [
    "# cleaning data from tags and non Arabic letter"
   ]
  },
  {
   "cell_type": "code",
   "execution_count": 37,
   "id": "93de1eaf",
   "metadata": {},
   "outputs": [],
   "source": [
    "import re\n",
    "text=real_news['text'][100]"
   ]
  },
  {
   "cell_type": "code",
   "execution_count": 38,
   "id": "90fb30c3",
   "metadata": {},
   "outputs": [
    {
     "data": {
      "text/plain": [
       "100    يستعد المغرب لتنفيذ تعويم تدريجي لعملته الدرهم...\n",
       "100    أوضح موقع صحيفة \"نيويورك تايمز\" أن عملاق التوا...\n",
       "100    جرت سُنَّة الله تعالى كما قضت حكمته أن يجعل مع...\n",
       "100    أخبارنا المغربية - عبد الرحيم القــاسمي\\nأفاد ...\n",
       "100    قلب فريق برشلونة تأخره بهدف أمام مضيفه خيتافي ...\n",
       "100    الاكتئاب من أكثر المشاكل النفسية شيوعاً، خاصة ...\n",
       "100    أخبارنا المغربية \\nبعد الاستغناء عن خدمات الفن...\n",
       "Name: text, dtype: object"
      ]
     },
     "execution_count": 38,
     "metadata": {},
     "output_type": "execute_result"
    }
   ],
   "source": [
    "text"
   ]
  },
  {
   "cell_type": "markdown",
   "id": "2a68bac6",
   "metadata": {},
   "source": [
    "> fill null values and reset indexs"
   ]
  },
  {
   "cell_type": "code",
   "execution_count": 41,
   "id": "8b4fc84a",
   "metadata": {},
   "outputs": [
    {
     "data": {
      "text/html": [
       "<div>\n",
       "<style scoped>\n",
       "    .dataframe tbody tr th:only-of-type {\n",
       "        vertical-align: middle;\n",
       "    }\n",
       "\n",
       "    .dataframe tbody tr th {\n",
       "        vertical-align: top;\n",
       "    }\n",
       "\n",
       "    .dataframe thead th {\n",
       "        text-align: right;\n",
       "    }\n",
       "</style>\n",
       "<table border=\"1\" class=\"dataframe\">\n",
       "  <thead>\n",
       "    <tr style=\"text-align: right;\">\n",
       "      <th></th>\n",
       "      <th>text</th>\n",
       "      <th>label</th>\n",
       "    </tr>\n",
       "  </thead>\n",
       "  <tbody>\n",
       "    <tr>\n",
       "      <th>0</th>\n",
       "      <td>سحبت شركة غوغل في خطوة مفاجئة خدمة يوتيوب الشه...</td>\n",
       "      <td>Tech</td>\n",
       "    </tr>\n",
       "    <tr>\n",
       "      <th>1</th>\n",
       "      <td>عاد لاعب باريس سان جيرمان، البرازيلي نيمار دا ...</td>\n",
       "      <td>Sports</td>\n",
       "    </tr>\n",
       "    <tr>\n",
       "      <th>2</th>\n",
       "      <td>أخبارنا المغربية ـ متابعة\\n \\nفي أول رد للبرلم...</td>\n",
       "      <td>Politics</td>\n",
       "    </tr>\n",
       "    <tr>\n",
       "      <th>3</th>\n",
       "      <td>شيرين تتهرب من المؤتمر الصحفي لمهرجان تطوان و ...</td>\n",
       "      <td>Culture</td>\n",
       "    </tr>\n",
       "    <tr>\n",
       "      <th>4</th>\n",
       "      <td>منظمو أولمبياد طوكيو 2020 يطالبون بالتبرع باله...</td>\n",
       "      <td>Sports</td>\n",
       "    </tr>\n",
       "  </tbody>\n",
       "</table>\n",
       "</div>"
      ],
      "text/plain": [
       "                                                text     label\n",
       "0  سحبت شركة غوغل في خطوة مفاجئة خدمة يوتيوب الشه...      Tech\n",
       "1  عاد لاعب باريس سان جيرمان، البرازيلي نيمار دا ...    Sports\n",
       "2  أخبارنا المغربية ـ متابعة\\n \\nفي أول رد للبرلم...  Politics\n",
       "3  شيرين تتهرب من المؤتمر الصحفي لمهرجان تطوان و ...   Culture\n",
       "4  منظمو أولمبياد طوكيو 2020 يطالبون بالتبرع باله...    Sports"
      ]
     },
     "execution_count": 41,
     "metadata": {},
     "output_type": "execute_result"
    }
   ],
   "source": [
    "real_news=real_news.sample(frac=1).reset_index(drop=True)\n",
    "real_news.head()"
   ]
  },
  {
   "cell_type": "code",
   "execution_count": 60,
   "id": "7d9befd9",
   "metadata": {},
   "outputs": [],
   "source": [
    "real_news=real_news.fillna(\" \")\n"
   ]
  },
  {
   "cell_type": "code",
   "execution_count": 61,
   "id": "d989ef05",
   "metadata": {},
   "outputs": [
    {
     "data": {
      "text/plain": [
       "' '"
      ]
     },
     "execution_count": 61,
     "metadata": {},
     "output_type": "execute_result"
    }
   ],
   "source": [
    "text=real_news['text'][702]\n",
    "text"
   ]
  },
  {
   "cell_type": "code",
   "execution_count": 62,
   "id": "9078f977",
   "metadata": {},
   "outputs": [
    {
     "data": {
      "text/plain": [
       "' '"
      ]
     },
     "execution_count": 62,
     "metadata": {},
     "output_type": "execute_result"
    }
   ],
   "source": [
    "text=re.sub('[A-Za-z\\W]',' ',text)\n",
    "text"
   ]
  },
  {
   "cell_type": "code",
   "execution_count": 66,
   "id": "3d98afde",
   "metadata": {},
   "outputs": [],
   "source": [
    "cleaned_data=[]\n",
    "for index in range(0,len(real_news)):\n",
    "    \n",
    "    text=real_news['text'][index]\n",
    "    \n",
    "    text=re.sub('[A-Za-z\\W]',' ',text)\n",
    "    cleaned_data.append(text)\n",
    "    real_news['text'][index]=text"
   ]
  },
  {
   "cell_type": "code",
   "execution_count": 65,
   "id": "69711218",
   "metadata": {},
   "outputs": [
    {
     "data": {
      "text/plain": [
       "78428"
      ]
     },
     "execution_count": 65,
     "metadata": {},
     "output_type": "execute_result"
    }
   ],
   "source": [
    "len(cleaned_data)"
   ]
  },
  {
   "cell_type": "code",
   "execution_count": 67,
   "id": "7ff455c7",
   "metadata": {},
   "outputs": [
    {
     "data": {
      "text/html": [
       "<div>\n",
       "<style scoped>\n",
       "    .dataframe tbody tr th:only-of-type {\n",
       "        vertical-align: middle;\n",
       "    }\n",
       "\n",
       "    .dataframe tbody tr th {\n",
       "        vertical-align: top;\n",
       "    }\n",
       "\n",
       "    .dataframe thead th {\n",
       "        text-align: right;\n",
       "    }\n",
       "</style>\n",
       "<table border=\"1\" class=\"dataframe\">\n",
       "  <thead>\n",
       "    <tr style=\"text-align: right;\">\n",
       "      <th></th>\n",
       "      <th>text</th>\n",
       "      <th>label</th>\n",
       "    </tr>\n",
       "  </thead>\n",
       "  <tbody>\n",
       "    <tr>\n",
       "      <th>0</th>\n",
       "      <td>سحبت شركة غوغل في خطوة مفاجئة خدمة يوتيوب الشه...</td>\n",
       "      <td>Tech</td>\n",
       "    </tr>\n",
       "    <tr>\n",
       "      <th>1</th>\n",
       "      <td>عاد لاعب باريس سان جيرمان  البرازيلي نيمار دا ...</td>\n",
       "      <td>Sports</td>\n",
       "    </tr>\n",
       "    <tr>\n",
       "      <th>2</th>\n",
       "      <td>أخبارنا المغربية ـ متابعة   في أول رد للبرلمان...</td>\n",
       "      <td>Politics</td>\n",
       "    </tr>\n",
       "    <tr>\n",
       "      <th>3</th>\n",
       "      <td>شيرين تتهرب من المؤتمر الصحفي لمهرجان تطوان و ...</td>\n",
       "      <td>Culture</td>\n",
       "    </tr>\n",
       "    <tr>\n",
       "      <th>4</th>\n",
       "      <td>منظمو أولمبياد طوكيو 2020 يطالبون بالتبرع باله...</td>\n",
       "      <td>Sports</td>\n",
       "    </tr>\n",
       "  </tbody>\n",
       "</table>\n",
       "</div>"
      ],
      "text/plain": [
       "                                                text     label\n",
       "0  سحبت شركة غوغل في خطوة مفاجئة خدمة يوتيوب الشه...      Tech\n",
       "1  عاد لاعب باريس سان جيرمان  البرازيلي نيمار دا ...    Sports\n",
       "2  أخبارنا المغربية ـ متابعة   في أول رد للبرلمان...  Politics\n",
       "3  شيرين تتهرب من المؤتمر الصحفي لمهرجان تطوان و ...   Culture\n",
       "4  منظمو أولمبياد طوكيو 2020 يطالبون بالتبرع باله...    Sports"
      ]
     },
     "execution_count": 67,
     "metadata": {},
     "output_type": "execute_result"
    }
   ],
   "source": [
    "real_news.head()"
   ]
  },
  {
   "cell_type": "code",
   "execution_count": 68,
   "id": "e16645bc",
   "metadata": {},
   "outputs": [],
   "source": [
    "real_news.to_csv('all_topics.csv',index=False,encoding='utf-8')"
   ]
  },
  {
   "cell_type": "code",
   "execution_count": 76,
   "id": "3c645f80",
   "metadata": {},
   "outputs": [],
   "source": [
    "fake_news=pd.read_csv('E:/nbn/fake-news.csv',encoding='utf-8')"
   ]
  },
  {
   "cell_type": "code",
   "execution_count": 77,
   "id": "87be9a12",
   "metadata": {},
   "outputs": [
    {
     "data": {
      "text/html": [
       "<div>\n",
       "<style scoped>\n",
       "    .dataframe tbody tr th:only-of-type {\n",
       "        vertical-align: middle;\n",
       "    }\n",
       "\n",
       "    .dataframe tbody tr th {\n",
       "        vertical-align: top;\n",
       "    }\n",
       "\n",
       "    .dataframe thead th {\n",
       "        text-align: right;\n",
       "    }\n",
       "</style>\n",
       "<table border=\"1\" class=\"dataframe\">\n",
       "  <thead>\n",
       "    <tr style=\"text-align: right;\">\n",
       "      <th></th>\n",
       "      <th>Unnamed: 0</th>\n",
       "      <th>text</th>\n",
       "      <th>Label</th>\n",
       "    </tr>\n",
       "  </thead>\n",
       "  <tbody>\n",
       "    <tr>\n",
       "      <th>0</th>\n",
       "      <td>0</td>\n",
       "      <td>تحليل  السيسي الرقم الصعب فى مؤتمر العشرين  ا...</td>\n",
       "      <td>fake</td>\n",
       "    </tr>\n",
       "    <tr>\n",
       "      <th>1</th>\n",
       "      <td>1</td>\n",
       "      <td>طالب توجيهي يكتشف حبه لمتابعة النشرة الاقتصادي...</td>\n",
       "      <td>fake</td>\n",
       "    </tr>\n",
       "    <tr>\n",
       "      <th>2</th>\n",
       "      <td>2</td>\n",
       "      <td>عانس تجد عريسا  رغم بلوغها سن الرابعة والعشرين...</td>\n",
       "      <td>fake</td>\n",
       "    </tr>\n",
       "    <tr>\n",
       "      <th>3</th>\n",
       "      <td>3</td>\n",
       "      <td>التنمية  لم نضبط متسولين بأول أيام رمضان با...</td>\n",
       "      <td>fake</td>\n",
       "    </tr>\n",
       "    <tr>\n",
       "      <th>4</th>\n",
       "      <td>4</td>\n",
       "      <td>شاب ينزعج من خبر تفجير رغم وقوعه كالمعتاد في ب...</td>\n",
       "      <td>fake</td>\n",
       "    </tr>\n",
       "  </tbody>\n",
       "</table>\n",
       "</div>"
      ],
      "text/plain": [
       "   Unnamed: 0                                               text Label\n",
       "0           0   تحليل  السيسي الرقم الصعب فى مؤتمر العشرين  ا...  fake\n",
       "1           1  طالب توجيهي يكتشف حبه لمتابعة النشرة الاقتصادي...  fake\n",
       "2           2  عانس تجد عريسا  رغم بلوغها سن الرابعة والعشرين...  fake\n",
       "3           3     التنمية  لم نضبط متسولين بأول أيام رمضان با...  fake\n",
       "4           4  شاب ينزعج من خبر تفجير رغم وقوعه كالمعتاد في ب...  fake"
      ]
     },
     "execution_count": 77,
     "metadata": {},
     "output_type": "execute_result"
    }
   ],
   "source": [
    "fake_news.head()"
   ]
  },
  {
   "cell_type": "code",
   "execution_count": 78,
   "id": "855b6342",
   "metadata": {},
   "outputs": [
    {
     "data": {
      "text/html": [
       "<div>\n",
       "<style scoped>\n",
       "    .dataframe tbody tr th:only-of-type {\n",
       "        vertical-align: middle;\n",
       "    }\n",
       "\n",
       "    .dataframe tbody tr th {\n",
       "        vertical-align: top;\n",
       "    }\n",
       "\n",
       "    .dataframe thead th {\n",
       "        text-align: right;\n",
       "    }\n",
       "</style>\n",
       "<table border=\"1\" class=\"dataframe\">\n",
       "  <thead>\n",
       "    <tr style=\"text-align: right;\">\n",
       "      <th></th>\n",
       "      <th>text</th>\n",
       "      <th>Label</th>\n",
       "    </tr>\n",
       "  </thead>\n",
       "  <tbody>\n",
       "    <tr>\n",
       "      <th>0</th>\n",
       "      <td>تحليل  السيسي الرقم الصعب فى مؤتمر العشرين  ا...</td>\n",
       "      <td>fake</td>\n",
       "    </tr>\n",
       "    <tr>\n",
       "      <th>1</th>\n",
       "      <td>طالب توجيهي يكتشف حبه لمتابعة النشرة الاقتصادي...</td>\n",
       "      <td>fake</td>\n",
       "    </tr>\n",
       "    <tr>\n",
       "      <th>2</th>\n",
       "      <td>عانس تجد عريسا  رغم بلوغها سن الرابعة والعشرين...</td>\n",
       "      <td>fake</td>\n",
       "    </tr>\n",
       "    <tr>\n",
       "      <th>3</th>\n",
       "      <td>التنمية  لم نضبط متسولين بأول أيام رمضان با...</td>\n",
       "      <td>fake</td>\n",
       "    </tr>\n",
       "    <tr>\n",
       "      <th>4</th>\n",
       "      <td>شاب ينزعج من خبر تفجير رغم وقوعه كالمعتاد في ب...</td>\n",
       "      <td>fake</td>\n",
       "    </tr>\n",
       "  </tbody>\n",
       "</table>\n",
       "</div>"
      ],
      "text/plain": [
       "                                                text Label\n",
       "0   تحليل  السيسي الرقم الصعب فى مؤتمر العشرين  ا...  fake\n",
       "1  طالب توجيهي يكتشف حبه لمتابعة النشرة الاقتصادي...  fake\n",
       "2  عانس تجد عريسا  رغم بلوغها سن الرابعة والعشرين...  fake\n",
       "3     التنمية  لم نضبط متسولين بأول أيام رمضان با...  fake\n",
       "4  شاب ينزعج من خبر تفجير رغم وقوعه كالمعتاد في ب...  fake"
      ]
     },
     "execution_count": 78,
     "metadata": {},
     "output_type": "execute_result"
    }
   ],
   "source": [
    "del fake_news['Unnamed: 0']\n",
    "fake_news.head()"
   ]
  },
  {
   "cell_type": "code",
   "execution_count": 79,
   "id": "c9404402",
   "metadata": {},
   "outputs": [],
   "source": [
    "fake_news=fake_news.fillna(' ')"
   ]
  },
  {
   "cell_type": "code",
   "execution_count": 80,
   "id": "0565f2d1",
   "metadata": {},
   "outputs": [],
   "source": [
    "cleaned_data=[]\n",
    "for index in range(0,len(fake_news)):\n",
    "    \n",
    "    text=fake_news['text'][index]\n",
    "    \n",
    "    text=re.sub('[A-Za-z\\W]',' ',text)\n",
    "    cleaned_data.append(text)\n",
    "    fake_news['text'][index]=text"
   ]
  },
  {
   "cell_type": "code",
   "execution_count": 91,
   "id": "224652b6",
   "metadata": {},
   "outputs": [],
   "source": [
    "fake_news.head()\n",
    "del fake_news['Label']\n",
    "fake_news['label']='fake'"
   ]
  },
  {
   "cell_type": "code",
   "execution_count": 92,
   "id": "e3494a99",
   "metadata": {},
   "outputs": [
    {
     "data": {
      "text/html": [
       "<div>\n",
       "<style scoped>\n",
       "    .dataframe tbody tr th:only-of-type {\n",
       "        vertical-align: middle;\n",
       "    }\n",
       "\n",
       "    .dataframe tbody tr th {\n",
       "        vertical-align: top;\n",
       "    }\n",
       "\n",
       "    .dataframe thead th {\n",
       "        text-align: right;\n",
       "    }\n",
       "</style>\n",
       "<table border=\"1\" class=\"dataframe\">\n",
       "  <thead>\n",
       "    <tr style=\"text-align: right;\">\n",
       "      <th></th>\n",
       "      <th>text</th>\n",
       "      <th>label</th>\n",
       "    </tr>\n",
       "  </thead>\n",
       "  <tbody>\n",
       "    <tr>\n",
       "      <th>0</th>\n",
       "      <td>تحليل  السيسي الرقم الصعب فى مؤتمر العشرين  ا...</td>\n",
       "      <td>fake</td>\n",
       "    </tr>\n",
       "    <tr>\n",
       "      <th>1</th>\n",
       "      <td>طالب توجيهي يكتشف حبه لمتابعة النشرة الاقتصادي...</td>\n",
       "      <td>fake</td>\n",
       "    </tr>\n",
       "    <tr>\n",
       "      <th>2</th>\n",
       "      <td>عانس تجد عريسا  رغم بلوغها سن الرابعة والعشرين...</td>\n",
       "      <td>fake</td>\n",
       "    </tr>\n",
       "    <tr>\n",
       "      <th>3</th>\n",
       "      <td>التنمية  لم نضبط متسولين بأول أيام رمضان با...</td>\n",
       "      <td>fake</td>\n",
       "    </tr>\n",
       "    <tr>\n",
       "      <th>4</th>\n",
       "      <td>شاب ينزعج من خبر تفجير رغم وقوعه كالمعتاد في ب...</td>\n",
       "      <td>fake</td>\n",
       "    </tr>\n",
       "  </tbody>\n",
       "</table>\n",
       "</div>"
      ],
      "text/plain": [
       "                                                text label\n",
       "0   تحليل  السيسي الرقم الصعب فى مؤتمر العشرين  ا...  fake\n",
       "1  طالب توجيهي يكتشف حبه لمتابعة النشرة الاقتصادي...  fake\n",
       "2  عانس تجد عريسا  رغم بلوغها سن الرابعة والعشرين...  fake\n",
       "3     التنمية  لم نضبط متسولين بأول أيام رمضان با...  fake\n",
       "4  شاب ينزعج من خبر تفجير رغم وقوعه كالمعتاد في ب...  fake"
      ]
     },
     "execution_count": 92,
     "metadata": {},
     "output_type": "execute_result"
    }
   ],
   "source": [
    "fake_news.head()"
   ]
  },
  {
   "cell_type": "code",
   "execution_count": 93,
   "id": "10c1f3ca",
   "metadata": {},
   "outputs": [],
   "source": [
    "fake_news.to_csv('fake-news.csv',index=False,encoding='utf-8')"
   ]
  },
  {
   "cell_type": "code",
   "execution_count": 84,
   "id": "118e1012",
   "metadata": {},
   "outputs": [
    {
     "data": {
      "text/plain": [
       "78428"
      ]
     },
     "execution_count": 84,
     "metadata": {},
     "output_type": "execute_result"
    }
   ],
   "source": [
    "len(real_news)"
   ]
  },
  {
   "cell_type": "code",
   "execution_count": 85,
   "id": "7232c02b",
   "metadata": {},
   "outputs": [
    {
     "data": {
      "text/plain": [
       "6673"
      ]
     },
     "execution_count": 85,
     "metadata": {},
     "output_type": "execute_result"
    }
   ],
   "source": [
    "len(fake_news)"
   ]
  },
  {
   "cell_type": "code",
   "execution_count": 86,
   "id": "b768cbe2",
   "metadata": {},
   "outputs": [],
   "source": [
    "real_news=real_news[:6673]"
   ]
  },
  {
   "cell_type": "code",
   "execution_count": 87,
   "id": "ccd19a1f",
   "metadata": {},
   "outputs": [
    {
     "data": {
      "text/plain": [
       "6673"
      ]
     },
     "execution_count": 87,
     "metadata": {},
     "output_type": "execute_result"
    }
   ],
   "source": [
    "len(real_news)"
   ]
  },
  {
   "cell_type": "code",
   "execution_count": 88,
   "id": "c5bf03b9",
   "metadata": {},
   "outputs": [
    {
     "name": "stderr",
     "output_type": "stream",
     "text": [
      "<ipython-input-88-3290d0fad767>:1: SettingWithCopyWarning: \n",
      "A value is trying to be set on a copy of a slice from a DataFrame.\n",
      "Try using .loc[row_indexer,col_indexer] = value instead\n",
      "\n",
      "See the caveats in the documentation: https://pandas.pydata.org/pandas-docs/stable/user_guide/indexing.html#returning-a-view-versus-a-copy\n",
      "  real_news['label']='real'\n"
     ]
    }
   ],
   "source": [
    "real_news['label']='real'"
   ]
  },
  {
   "cell_type": "code",
   "execution_count": 89,
   "id": "380e9565",
   "metadata": {},
   "outputs": [
    {
     "data": {
      "text/html": [
       "<div>\n",
       "<style scoped>\n",
       "    .dataframe tbody tr th:only-of-type {\n",
       "        vertical-align: middle;\n",
       "    }\n",
       "\n",
       "    .dataframe tbody tr th {\n",
       "        vertical-align: top;\n",
       "    }\n",
       "\n",
       "    .dataframe thead th {\n",
       "        text-align: right;\n",
       "    }\n",
       "</style>\n",
       "<table border=\"1\" class=\"dataframe\">\n",
       "  <thead>\n",
       "    <tr style=\"text-align: right;\">\n",
       "      <th></th>\n",
       "      <th>text</th>\n",
       "      <th>label</th>\n",
       "    </tr>\n",
       "  </thead>\n",
       "  <tbody>\n",
       "    <tr>\n",
       "      <th>0</th>\n",
       "      <td>سحبت شركة غوغل في خطوة مفاجئة خدمة يوتيوب الشه...</td>\n",
       "      <td>real</td>\n",
       "    </tr>\n",
       "    <tr>\n",
       "      <th>1</th>\n",
       "      <td>عاد لاعب باريس سان جيرمان  البرازيلي نيمار دا ...</td>\n",
       "      <td>real</td>\n",
       "    </tr>\n",
       "    <tr>\n",
       "      <th>2</th>\n",
       "      <td>أخبارنا المغربية ـ متابعة   في أول رد للبرلمان...</td>\n",
       "      <td>real</td>\n",
       "    </tr>\n",
       "    <tr>\n",
       "      <th>3</th>\n",
       "      <td>شيرين تتهرب من المؤتمر الصحفي لمهرجان تطوان و ...</td>\n",
       "      <td>real</td>\n",
       "    </tr>\n",
       "    <tr>\n",
       "      <th>4</th>\n",
       "      <td>منظمو أولمبياد طوكيو 2020 يطالبون بالتبرع باله...</td>\n",
       "      <td>real</td>\n",
       "    </tr>\n",
       "  </tbody>\n",
       "</table>\n",
       "</div>"
      ],
      "text/plain": [
       "                                                text label\n",
       "0  سحبت شركة غوغل في خطوة مفاجئة خدمة يوتيوب الشه...  real\n",
       "1  عاد لاعب باريس سان جيرمان  البرازيلي نيمار دا ...  real\n",
       "2  أخبارنا المغربية ـ متابعة   في أول رد للبرلمان...  real\n",
       "3  شيرين تتهرب من المؤتمر الصحفي لمهرجان تطوان و ...  real\n",
       "4  منظمو أولمبياد طوكيو 2020 يطالبون بالتبرع باله...  real"
      ]
     },
     "execution_count": 89,
     "metadata": {},
     "output_type": "execute_result"
    }
   ],
   "source": [
    "real_news.head()"
   ]
  },
  {
   "cell_type": "code",
   "execution_count": 90,
   "id": "4758dc71",
   "metadata": {},
   "outputs": [],
   "source": [
    "real_news.to_csv('real-news.csv',index=False,encoding='utf-8')"
   ]
  },
  {
   "cell_type": "code",
   "execution_count": null,
   "id": "28658fe0",
   "metadata": {},
   "outputs": [],
   "source": []
  }
 ],
 "metadata": {
  "kernelspec": {
   "display_name": "Python 3",
   "language": "python",
   "name": "python3"
  },
  "language_info": {
   "codemirror_mode": {
    "name": "ipython",
    "version": 3
   },
   "file_extension": ".py",
   "mimetype": "text/x-python",
   "name": "python",
   "nbconvert_exporter": "python",
   "pygments_lexer": "ipython3",
   "version": "3.8.8"
  }
 },
 "nbformat": 4,
 "nbformat_minor": 5
}
