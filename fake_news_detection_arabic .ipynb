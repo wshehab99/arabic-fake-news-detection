{
 "cells": [
  {
   "cell_type": "markdown",
   "id": "13e10e2d",
   "metadata": {},
   "source": [
    "## packages"
   ]
  },
  {
   "cell_type": "code",
   "execution_count": 235,
   "id": "a529a0a2",
   "metadata": {},
   "outputs": [],
   "source": [
    "import nltk\n",
    "from tkinter import *\n",
    "import pyarabic.arabrepr\n",
    "from tashaphyne.stemming import ArabicLightStemmer\n",
    "arepr=pyarabic.arabrepr.ArabicRepr()\n",
    "repr=arepr.repr\n",
    "arabic_stemmer=ArabicLightStemmer()\n"
   ]
  },
  {
   "cell_type": "markdown",
   "id": "d6fb8ac1",
   "metadata": {},
   "source": [
    "## read the data"
   ]
  },
  {
   "cell_type": "code",
   "execution_count": 236,
   "id": "a132ab80",
   "metadata": {},
   "outputs": [
    {
     "data": {
      "text/html": [
       "<div>\n",
       "<style scoped>\n",
       "    .dataframe tbody tr th:only-of-type {\n",
       "        vertical-align: middle;\n",
       "    }\n",
       "\n",
       "    .dataframe tbody tr th {\n",
       "        vertical-align: top;\n",
       "    }\n",
       "\n",
       "    .dataframe thead th {\n",
       "        text-align: right;\n",
       "    }\n",
       "</style>\n",
       "<table border=\"1\" class=\"dataframe\">\n",
       "  <thead>\n",
       "    <tr style=\"text-align: right;\">\n",
       "      <th></th>\n",
       "      <th>text</th>\n",
       "      <th>label</th>\n",
       "    </tr>\n",
       "  </thead>\n",
       "  <tbody>\n",
       "    <tr>\n",
       "      <th>0</th>\n",
       "      <td>سحبت شركة غوغل في خطوة مفاجئة خدمة يوتيوب الشه...</td>\n",
       "      <td>1</td>\n",
       "    </tr>\n",
       "    <tr>\n",
       "      <th>1</th>\n",
       "      <td>عاد لاعب باريس سان جيرمان  البرازيلي نيمار دا ...</td>\n",
       "      <td>1</td>\n",
       "    </tr>\n",
       "    <tr>\n",
       "      <th>2</th>\n",
       "      <td>أخبارنا المغربية ـ متابعة   في أول رد للبرلمان...</td>\n",
       "      <td>1</td>\n",
       "    </tr>\n",
       "    <tr>\n",
       "      <th>3</th>\n",
       "      <td>شيرين تتهرب من المؤتمر الصحفي لمهرجان تطوان و ...</td>\n",
       "      <td>1</td>\n",
       "    </tr>\n",
       "    <tr>\n",
       "      <th>4</th>\n",
       "      <td>منظمو أولمبياد طوكيو 2020 يطالبون بالتبرع باله...</td>\n",
       "      <td>1</td>\n",
       "    </tr>\n",
       "  </tbody>\n",
       "</table>\n",
       "</div>"
      ],
      "text/plain": [
       "                                                text  label\n",
       "0  سحبت شركة غوغل في خطوة مفاجئة خدمة يوتيوب الشه...      1\n",
       "1  عاد لاعب باريس سان جيرمان  البرازيلي نيمار دا ...      1\n",
       "2  أخبارنا المغربية ـ متابعة   في أول رد للبرلمان...      1\n",
       "3  شيرين تتهرب من المؤتمر الصحفي لمهرجان تطوان و ...      1\n",
       "4  منظمو أولمبياد طوكيو 2020 يطالبون بالتبرع باله...      1"
      ]
     },
     "execution_count": 236,
     "metadata": {},
     "output_type": "execute_result"
    }
   ],
   "source": [
    "import pandas as pd\n",
    "fake=pd.read_csv('E:/nbn/fake-news.csv',encoding='utf-8')\n",
    "real=pd.read_csv('E:/nbn/real-news.csv',encoding='utf-8')\n",
    "real['label']=1\n",
    "fake['label']=0\n",
    "real=real[:5000]\n",
    "fake=fake[:5000]\n",
    "df=pd.concat([real,fake])\n",
    "df.head()"
   ]
  },
  {
   "cell_type": "markdown",
   "id": "ca133730",
   "metadata": {},
   "source": [
    "## preprocessing"
   ]
  },
  {
   "cell_type": "markdown",
   "id": "2b4c3112",
   "metadata": {},
   "source": [
    "# shuffel the data"
   ]
  },
  {
   "cell_type": "code",
   "execution_count": 237,
   "id": "32ab3d9d",
   "metadata": {},
   "outputs": [
    {
     "data": {
      "text/html": [
       "<div>\n",
       "<style scoped>\n",
       "    .dataframe tbody tr th:only-of-type {\n",
       "        vertical-align: middle;\n",
       "    }\n",
       "\n",
       "    .dataframe tbody tr th {\n",
       "        vertical-align: top;\n",
       "    }\n",
       "\n",
       "    .dataframe thead th {\n",
       "        text-align: right;\n",
       "    }\n",
       "</style>\n",
       "<table border=\"1\" class=\"dataframe\">\n",
       "  <thead>\n",
       "    <tr style=\"text-align: right;\">\n",
       "      <th></th>\n",
       "      <th>text</th>\n",
       "      <th>label</th>\n",
       "    </tr>\n",
       "  </thead>\n",
       "  <tbody>\n",
       "    <tr>\n",
       "      <th>4595</th>\n",
       "      <td>أعلنت جمعية مغرب الثقافات  اليوم الإثنين  أن ا...</td>\n",
       "      <td>1</td>\n",
       "    </tr>\n",
       "    <tr>\n",
       "      <th>1877</th>\n",
       "      <td>أخبارنا المغربية   و م ع  أدت صاحبة السمو المل...</td>\n",
       "      <td>1</td>\n",
       "    </tr>\n",
       "    <tr>\n",
       "      <th>1991</th>\n",
       "      <td>كشفت شركة سامسونغ  يوم الأحد  هاتفيها المرتقبي...</td>\n",
       "      <td>1</td>\n",
       "    </tr>\n",
       "    <tr>\n",
       "      <th>1231</th>\n",
       "      <td>الابتكارات في مجال سرقة السيارات لا تتوقف ودائ...</td>\n",
       "      <td>1</td>\n",
       "    </tr>\n",
       "    <tr>\n",
       "      <th>2952</th>\n",
       "      <td>جماهير الأفريقي تتضامن مع القدس بـ تيفو  ضخم  ...</td>\n",
       "      <td>1</td>\n",
       "    </tr>\n",
       "  </tbody>\n",
       "</table>\n",
       "</div>"
      ],
      "text/plain": [
       "                                                   text  label\n",
       "4595  أعلنت جمعية مغرب الثقافات  اليوم الإثنين  أن ا...      1\n",
       "1877  أخبارنا المغربية   و م ع  أدت صاحبة السمو المل...      1\n",
       "1991  كشفت شركة سامسونغ  يوم الأحد  هاتفيها المرتقبي...      1\n",
       "1231  الابتكارات في مجال سرقة السيارات لا تتوقف ودائ...      1\n",
       "2952  جماهير الأفريقي تتضامن مع القدس بـ تيفو  ضخم  ...      1"
      ]
     },
     "execution_count": 237,
     "metadata": {},
     "output_type": "execute_result"
    }
   ],
   "source": [
    "from sklearn.utils import shuffle\n",
    "df=shuffle(df)\n",
    "df.head()"
   ]
  },
  {
   "cell_type": "markdown",
   "id": "33c06017",
   "metadata": {},
   "source": [
    "# reset indexes"
   ]
  },
  {
   "cell_type": "code",
   "execution_count": 238,
   "id": "01c7dc9c",
   "metadata": {},
   "outputs": [
    {
     "data": {
      "text/html": [
       "<div>\n",
       "<style scoped>\n",
       "    .dataframe tbody tr th:only-of-type {\n",
       "        vertical-align: middle;\n",
       "    }\n",
       "\n",
       "    .dataframe tbody tr th {\n",
       "        vertical-align: top;\n",
       "    }\n",
       "\n",
       "    .dataframe thead th {\n",
       "        text-align: right;\n",
       "    }\n",
       "</style>\n",
       "<table border=\"1\" class=\"dataframe\">\n",
       "  <thead>\n",
       "    <tr style=\"text-align: right;\">\n",
       "      <th></th>\n",
       "      <th>text</th>\n",
       "      <th>label</th>\n",
       "    </tr>\n",
       "  </thead>\n",
       "  <tbody>\n",
       "    <tr>\n",
       "      <th>0</th>\n",
       "      <td>الشفاعة فضل من الله تعالى يكرم به بعض عباده يو...</td>\n",
       "      <td>1</td>\n",
       "    </tr>\n",
       "    <tr>\n",
       "      <th>1</th>\n",
       "      <td>صور لمحاولة سرقة امرأة مسنة عن طريق دراجة ناري...</td>\n",
       "      <td>0</td>\n",
       "    </tr>\n",
       "    <tr>\n",
       "      <th>2</th>\n",
       "      <td>فتاة جامعية تخي ب أمل والدتها  وتفشل بتحصيل عر...</td>\n",
       "      <td>0</td>\n",
       "    </tr>\n",
       "    <tr>\n",
       "      <th>3</th>\n",
       "      <td>طرحت  هواوي  خلال العام الجاري  تشكيلة من هوات...</td>\n",
       "      <td>1</td>\n",
       "    </tr>\n",
       "    <tr>\n",
       "      <th>4</th>\n",
       "      <td>أفاد مصدر من الوقاية المدنية أن حريقا شب ليلة ...</td>\n",
       "      <td>1</td>\n",
       "    </tr>\n",
       "  </tbody>\n",
       "</table>\n",
       "</div>"
      ],
      "text/plain": [
       "                                                text  label\n",
       "0  الشفاعة فضل من الله تعالى يكرم به بعض عباده يو...      1\n",
       "1  صور لمحاولة سرقة امرأة مسنة عن طريق دراجة ناري...      0\n",
       "2  فتاة جامعية تخي ب أمل والدتها  وتفشل بتحصيل عر...      0\n",
       "3  طرحت  هواوي  خلال العام الجاري  تشكيلة من هوات...      1\n",
       "4  أفاد مصدر من الوقاية المدنية أن حريقا شب ليلة ...      1"
      ]
     },
     "execution_count": 238,
     "metadata": {},
     "output_type": "execute_result"
    }
   ],
   "source": [
    "df=df.sample(frac=1).reset_index(drop=True)\n",
    "df.head()"
   ]
  },
  {
   "cell_type": "code",
   "execution_count": 239,
   "id": "8e45364c",
   "metadata": {},
   "outputs": [],
   "source": [
    "\n",
    "def remove_stopwords():\n",
    "    file=open('E:/nbn/stopwords.txt','r',encoding='utf-8')\n",
    "    ss=file.read()\n",
    "\n",
    "    stop_words=ss.split()\n",
    "    result_data.delete(\"1.0\",END)\n",
    "    text=rawdata.get(\"1.0\",END)\n",
    "    results=[]\n",
    "    for word in text.split():\n",
    "        if word not in stop_words:\n",
    "\n",
    "            results.append(word)\n",
    "    result_data.insert(\"1.0\",\" - \".join(results))\n"
   ]
  },
  {
   "cell_type": "code",
   "execution_count": 240,
   "id": "d012df6f",
   "metadata": {},
   "outputs": [],
   "source": [
    "def choose_text():\n",
    "    import random\n",
    "    n=random.randint(0,len(df))\n",
    "    rawdata.delete('1.0',END)\n",
    "    rawdata.insert(\"1.0\",df['text'][n])"
   ]
  },
  {
   "cell_type": "code",
   "execution_count": 241,
   "id": "33e60687",
   "metadata": {},
   "outputs": [],
   "source": [
    "def splitting():\n",
    "    result_data.delete(\"1.0\",END)\n",
    "    text=rawdata.get(\"1.0\",END)\n",
    "    results=[]\n",
    "    for word in text.split():\n",
    "        results.append(word)\n",
    "    result_data.insert(\"1.0\",\" - \".join(results))\n",
    "def stemming():\n",
    "    result_data.delete(\"1.0\",END)\n",
    "    text=rawdata.get(\"1.0\",END)\n",
    "    results=[]\n",
    "    for word in text.split():\n",
    "        arabic_stemmer.light_stem(word)\n",
    "        results.append(arabic_stemmer.get_stem())\n",
    "    result_data.insert(\"1.0\",\" - \".join(results))\n",
    "def get_root():\n",
    "    \n",
    "    result_data.delete(\"1.0\",END)\n",
    "    text=rawdata.get(\"1.0\",END)\n",
    "    results=[]\n",
    "    for word in text.split():\n",
    "        arabic_stemmer.light_stem(word)\n",
    "        results.append(arabic_stemmer.get_root())\n",
    "    result_data.insert(\"1.0\",\" - \".join(results))\n"
   ]
  },
  {
   "cell_type": "code",
   "execution_count": 242,
   "id": "51deb20d",
   "metadata": {},
   "outputs": [],
   "source": [
    "def segmentation():\n",
    "    result_data.delete(\"1.0\",END)\n",
    "    text=rawdata.get(\"1.0\",END)\n",
    "    results=[]\n",
    "    for word in text.split('.'):\n",
    "        results.append(word)\n",
    "    result_data.insert(\"1.0\",\" - \".join(results))"
   ]
  },
  {
   "cell_type": "code",
   "execution_count": 243,
   "id": "a3bc2a7a",
   "metadata": {
    "scrolled": true
   },
   "outputs": [],
   "source": [
    "top=Tk()\n",
    "top.title('Fake News')\n",
    "top.geometry(\"500x600\") \n",
    "label1=Label(top,text='Enter your Text')\n",
    "rawdata=Text(top,height=15,width=60,)\n",
    "label2=Label(top,text='Result')\n",
    "result_data=Text(top,height=15,width=60,)\n",
    "stem_button=Button(top,text=\"Stem\",command=stemming)\n",
    "segmentation_button=Button(top,text=\"Segmentation\",command=segmentation)\n",
    "get_root_button=Button(top,text=\"Get Root\",command=get_root)\n",
    "split_button=Button(top,text=\"Split Text\",command=splitting)\n",
    "stopwords_button=Button(top,text=\"Remove StopWords\",command=remove_stopwords)\n",
    "\n",
    "random_button=Button(top,text=\"Random text from data\",command=choose_text)\n",
    "label1.grid(row=0,columnspan=6)\n",
    "rawdata.grid(row=1,columnspan=6)\n",
    "label2.grid(row=2,columnspan=6)\n",
    "result_data.grid(row=3,columnspan=6)\n",
    "split_button.grid(row=4,column=0)\n",
    "segmentation_button.grid(row=4,column=1)\n",
    "stopwords_button.grid(row=4,column=2)\n",
    "stem_button.grid(row=4,column=3)\n",
    "get_root_button.grid(row=4,column=4)\n",
    "random_button.grid(row=4,column=5)\n",
    "\n",
    "top.mainloop()"
   ]
  },
  {
   "cell_type": "markdown",
   "id": "0fe5be48",
   "metadata": {},
   "source": []
  },
  {
   "cell_type": "code",
   "execution_count": 244,
   "id": "911d16a6",
   "metadata": {},
   "outputs": [],
   "source": [
    "def segmentation(text):\n",
    "    results=[]\n",
    "    for word in text.split('.'):\n",
    "        results.append(word)\n",
    "    return \" \".join(results)"
   ]
  },
  {
   "cell_type": "code",
   "execution_count": 245,
   "id": "34b271e1",
   "metadata": {},
   "outputs": [],
   "source": [
    "def splitting(text):\n",
    "    results=[]\n",
    "    for word in text.split():\n",
    "        results.append(word)\n",
    "    return \" \".join(results)"
   ]
  },
  {
   "cell_type": "code",
   "execution_count": 246,
   "id": "3f2106e4",
   "metadata": {},
   "outputs": [],
   "source": [
    "def remove_stopwords(text):\n",
    "    file=open('E:/nbn/stopwords.txt','r',encoding='utf-8')\n",
    "    ss=file.read()\n",
    "\n",
    "    stop_words=ss.split()\n",
    "    results=[]\n",
    "    for word in text.split():\n",
    "        if word not in stop_words:\n",
    "\n",
    "            results.append(word)\n",
    "    return \" \".join(results)\n"
   ]
  },
  {
   "cell_type": "code",
   "execution_count": 247,
   "id": "2ff1517c",
   "metadata": {},
   "outputs": [],
   "source": [
    "def remove_punctuation(text):\n",
    "    import string\n",
    "    punc=list(string.punctuation)\n",
    "    t=[]\n",
    "    for word in text.split(): \n",
    "        if word not in punc:\n",
    "            t.append(word)\n",
    "            \n",
    "    return \" \".join(t)"
   ]
  },
  {
   "cell_type": "code",
   "execution_count": 248,
   "id": "1c52a83b",
   "metadata": {},
   "outputs": [],
   "source": [
    "\n",
    "def stemming(text):\n",
    "\n",
    "    results=[]\n",
    "    for word in text.split():\n",
    "        results.append(arabic_stemmer.light_stem(word))\n",
    "    return \" \".join(results)\n"
   ]
  },
  {
   "cell_type": "code",
   "execution_count": 249,
   "id": "3e928d95",
   "metadata": {},
   "outputs": [],
   "source": [
    "\n",
    "def get_root(text):\n",
    "    results=[]\n",
    "    for word in text.split():\n",
    "        arabic_stemmer.light_stem(word)\n",
    "        results.append(arabic_stemmer.get_root())\n",
    "    return \" \".join(results)\n"
   ]
  },
  {
   "cell_type": "markdown",
   "id": "afe3ae8a",
   "metadata": {},
   "source": [
    "# applay the preprocessing"
   ]
  },
  {
   "cell_type": "code",
   "execution_count": 250,
   "id": "91b5d6e5",
   "metadata": {},
   "outputs": [],
   "source": [
    "df['text']=df['text'].apply(remove_stopwords)\n",
    "df['text']=df['text'].apply(remove_punctuation)\n",
    "df['text']=df['text'].apply(get_root)\n"
   ]
  },
  {
   "cell_type": "markdown",
   "id": "34d80676",
   "metadata": {},
   "source": [
    "# Naive Bayes with Tf_Idf"
   ]
  },
  {
   "cell_type": "code",
   "execution_count": 251,
   "id": "573e6e08",
   "metadata": {},
   "outputs": [],
   "source": [
    "from sklearn.feature_extraction.text import TfidfVectorizer\n",
    "from sklearn.model_selection import train_test_split\n",
    "#feature extraction\n",
    "tfidf_vec=TfidfVectorizer()\n",
    "tfidf_features=tfidf_vec.fit_transform(df['text'])\n",
    "#split data into train and test\n",
    "x_train,x_test,y_train,y_test=train_test_split(tfidf_features,df['label'],test_size=0.2)"
   ]
  },
  {
   "cell_type": "code",
   "execution_count": 252,
   "id": "43d1f864",
   "metadata": {},
   "outputs": [
    {
     "name": "stdout",
     "output_type": "stream",
     "text": [
      "(8000, 16693)\n",
      "(2000, 16693)\n"
     ]
    }
   ],
   "source": [
    "print(x_train.shape)\n",
    "print(x_test.shape)"
   ]
  },
  {
   "cell_type": "code",
   "execution_count": 253,
   "id": "068a5cf7",
   "metadata": {},
   "outputs": [
    {
     "data": {
      "text/plain": [
       "MultinomialNB()"
      ]
     },
     "execution_count": 253,
     "metadata": {},
     "output_type": "execute_result"
    }
   ],
   "source": [
    "# classifier\n",
    "from sklearn.naive_bayes import MultinomialNB\n",
    "tfidf_model=MultinomialNB()\n",
    "tfidf_model.fit(x_train,y_train)"
   ]
  },
  {
   "cell_type": "markdown",
   "id": "018677c0",
   "metadata": {},
   "source": [
    "# accurcy"
   ]
  },
  {
   "cell_type": "code",
   "execution_count": 254,
   "id": "e91c97d0",
   "metadata": {},
   "outputs": [
    {
     "name": "stdout",
     "output_type": "stream",
     "text": [
      "0.9195\n"
     ]
    }
   ],
   "source": [
    "import numpy as np\n",
    "tfidf_predected=tfidf_model.predict(x_test)\n",
    "print(np.mean(tfidf_predected==y_test))"
   ]
  },
  {
   "cell_type": "markdown",
   "id": "b14d8e09",
   "metadata": {},
   "source": [
    "# confusion matrix"
   ]
  },
  {
   "cell_type": "code",
   "execution_count": 255,
   "id": "6bceeaa3",
   "metadata": {},
   "outputs": [
    {
     "name": "stdout",
     "output_type": "stream",
     "text": [
      "[[862 127]\n",
      " [ 34 977]]\n"
     ]
    }
   ],
   "source": [
    "from sklearn.metrics import confusion_matrix\n",
    "print(confusion_matrix(y_test,tfidf_predected))"
   ]
  },
  {
   "cell_type": "markdown",
   "id": "334ab639",
   "metadata": {},
   "source": [
    "# Naive Bayes with Binary Encoding"
   ]
  },
  {
   "cell_type": "code",
   "execution_count": 256,
   "id": "3ddf4628",
   "metadata": {},
   "outputs": [],
   "source": [
    "from sklearn.feature_extraction.text import CountVectorizer\n",
    "binary_vec=CountVectorizer(binary=True)\n",
    "binary_features=binary_vec.fit_transform(df['text'])\n",
    "x_train,x_test,y_train,y_test=train_test_split(binary_features,df['label'],test_size=0.2)"
   ]
  },
  {
   "cell_type": "code",
   "execution_count": 257,
   "id": "1767ad85",
   "metadata": {},
   "outputs": [
    {
     "data": {
      "text/plain": [
       "MultinomialNB()"
      ]
     },
     "execution_count": 257,
     "metadata": {},
     "output_type": "execute_result"
    }
   ],
   "source": [
    "# classefier\n",
    "binary_model=MultinomialNB()\n",
    "binary_model.fit(x_train,y_train)"
   ]
  },
  {
   "cell_type": "markdown",
   "id": "9c5cdf7e",
   "metadata": {},
   "source": [
    "# accurcy"
   ]
  },
  {
   "cell_type": "code",
   "execution_count": 258,
   "id": "e7cbae30",
   "metadata": {},
   "outputs": [
    {
     "name": "stdout",
     "output_type": "stream",
     "text": [
      "0.9045\n"
     ]
    }
   ],
   "source": [
    "binary_predicted=binary_model.predict(x_test)\n",
    "print(np.mean(binary_predicted==y_test))"
   ]
  },
  {
   "cell_type": "markdown",
   "id": "8e0495b9",
   "metadata": {},
   "source": [
    "# Confusion Matrix"
   ]
  },
  {
   "cell_type": "code",
   "execution_count": 259,
   "id": "d4d19288",
   "metadata": {},
   "outputs": [
    {
     "name": "stdout",
     "output_type": "stream",
     "text": [
      "[[841  48]\n",
      " [143 968]]\n"
     ]
    }
   ],
   "source": [
    "print(confusion_matrix(binary_predicted,y_test))"
   ]
  },
  {
   "cell_type": "markdown",
   "id": "9d792e84",
   "metadata": {},
   "source": [
    "# Naive Bayes with Tf_Idf"
   ]
  },
  {
   "cell_type": "code",
   "execution_count": 260,
   "id": "609ca511",
   "metadata": {},
   "outputs": [
    {
     "data": {
      "text/plain": [
       "MultinomialNB()"
      ]
     },
     "execution_count": 260,
     "metadata": {},
     "output_type": "execute_result"
    }
   ],
   "source": [
    "count_vec=CountVectorizer()\n",
    "count_features=count_vec.fit_transform(df['text'])\n",
    "x_train,x_test,y_train,y_test=train_test_split(count_features,df['label'],test_size=0.2)\n",
    "count_model=MultinomialNB()\n",
    "count_model.fit(x_train,y_train)"
   ]
  },
  {
   "cell_type": "markdown",
   "id": "68a2e8e8",
   "metadata": {},
   "source": [
    "# accurcy"
   ]
  },
  {
   "cell_type": "code",
   "execution_count": 261,
   "id": "a389e347",
   "metadata": {},
   "outputs": [
    {
     "name": "stdout",
     "output_type": "stream",
     "text": [
      "0.9075\n"
     ]
    }
   ],
   "source": [
    "count_predicted=count_model.predict(x_test)\n",
    "print(np.mean(count_predicted==y_test))"
   ]
  },
  {
   "cell_type": "markdown",
   "id": "9655243e",
   "metadata": {},
   "source": [
    "# Confusion Matrix"
   ]
  },
  {
   "cell_type": "code",
   "execution_count": 262,
   "id": "0dff6243",
   "metadata": {},
   "outputs": [
    {
     "name": "stdout",
     "output_type": "stream",
     "text": [
      "[[856  39]\n",
      " [146 959]]\n"
     ]
    }
   ],
   "source": [
    "print(confusion_matrix(count_predicted,y_test))"
   ]
  },
  {
   "cell_type": "code",
   "execution_count": null,
   "id": "f0aefdfe",
   "metadata": {},
   "outputs": [],
   "source": []
  }
 ],
 "metadata": {
  "kernelspec": {
   "display_name": "Python 3",
   "language": "python",
   "name": "python3"
  },
  "language_info": {
   "codemirror_mode": {
    "name": "ipython",
    "version": 3
   },
   "file_extension": ".py",
   "mimetype": "text/x-python",
   "name": "python",
   "nbconvert_exporter": "python",
   "pygments_lexer": "ipython3",
   "version": "3.8.8"
  }
 },
 "nbformat": 4,
 "nbformat_minor": 5
}
