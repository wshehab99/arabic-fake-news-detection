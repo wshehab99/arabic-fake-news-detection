{
 "cells": [
  {
   "cell_type": "markdown",
   "id": "13e10e2d",
   "metadata": {},
   "source": [
    "## packages"
   ]
  },
  {
   "cell_type": "code",
   "execution_count": 75,
   "id": "a529a0a2",
   "metadata": {},
   "outputs": [],
   "source": [
    "import nltk\n",
    "from tkinter import *\n",
    "import pyarabic.arabrepr\n",
    "#stem  \n",
    "from tashaphyne.stemming import ArabicLightStemmer\n",
    "arepr=pyarabic.arabrepr.ArabicRepr()\n",
    "repr=arepr.repr\n",
    "arabic_stemmer=ArabicLightStemmer()"
   ]
  },
  {
   "cell_type": "markdown",
   "id": "d6fb8ac1",
   "metadata": {},
   "source": [
    "## read the data"
   ]
  },
  {
   "cell_type": "code",
   "execution_count": 76,
   "id": "a132ab80",
   "metadata": {},
   "outputs": [
    {
     "data": {
      "text/html": [
       "<div>\n",
       "<style scoped>\n",
       "    .dataframe tbody tr th:only-of-type {\n",
       "        vertical-align: middle;\n",
       "    }\n",
       "\n",
       "    .dataframe tbody tr th {\n",
       "        vertical-align: top;\n",
       "    }\n",
       "\n",
       "    .dataframe thead th {\n",
       "        text-align: right;\n",
       "    }\n",
       "</style>\n",
       "<table border=\"1\" class=\"dataframe\">\n",
       "  <thead>\n",
       "    <tr style=\"text-align: right;\">\n",
       "      <th></th>\n",
       "      <th>text</th>\n",
       "      <th>label</th>\n",
       "    </tr>\n",
       "  </thead>\n",
       "  <tbody>\n",
       "    <tr>\n",
       "      <th>0</th>\n",
       "      <td>سحبت شركة غوغل في خطوة مفاجئة خدمة يوتيوب الشه...</td>\n",
       "      <td>1</td>\n",
       "    </tr>\n",
       "    <tr>\n",
       "      <th>1</th>\n",
       "      <td>عاد لاعب باريس سان جيرمان  البرازيلي نيمار دا ...</td>\n",
       "      <td>1</td>\n",
       "    </tr>\n",
       "    <tr>\n",
       "      <th>2</th>\n",
       "      <td>أخبارنا المغربية ـ متابعة   في أول رد للبرلمان...</td>\n",
       "      <td>1</td>\n",
       "    </tr>\n",
       "    <tr>\n",
       "      <th>3</th>\n",
       "      <td>شيرين تتهرب من المؤتمر الصحفي لمهرجان تطوان و ...</td>\n",
       "      <td>1</td>\n",
       "    </tr>\n",
       "    <tr>\n",
       "      <th>4</th>\n",
       "      <td>منظمو أولمبياد طوكيو 2020 يطالبون بالتبرع باله...</td>\n",
       "      <td>1</td>\n",
       "    </tr>\n",
       "  </tbody>\n",
       "</table>\n",
       "</div>"
      ],
      "text/plain": [
       "                                                text  label\n",
       "0  سحبت شركة غوغل في خطوة مفاجئة خدمة يوتيوب الشه...      1\n",
       "1  عاد لاعب باريس سان جيرمان  البرازيلي نيمار دا ...      1\n",
       "2  أخبارنا المغربية ـ متابعة   في أول رد للبرلمان...      1\n",
       "3  شيرين تتهرب من المؤتمر الصحفي لمهرجان تطوان و ...      1\n",
       "4  منظمو أولمبياد طوكيو 2020 يطالبون بالتبرع باله...      1"
      ]
     },
     "execution_count": 76,
     "metadata": {},
     "output_type": "execute_result"
    }
   ],
   "source": [
    "import pandas as pd\n",
    "fake=pd.read_csv('E:/nbn/fake-news.csv',encoding='utf-8')\n",
    "real=pd.read_csv('E:/nbn/real-news.csv',encoding='utf-8')\n",
    "real['label']=1\n",
    "fake['label']=0\n",
    "real=real[:5000]\n",
    "fake=fake[:5000]\n",
    "df=pd.concat([real,fake])\n",
    "#4999-0\n",
    "df.head()"
   ]
  },
  {
   "cell_type": "markdown",
   "id": "ca133730",
   "metadata": {},
   "source": [
    "## preprocessing"
   ]
  },
  {
   "cell_type": "code",
   "execution_count": 77,
   "id": "ce33120c",
   "metadata": {},
   "outputs": [
    {
     "data": {
      "text/html": [
       "<div>\n",
       "<style scoped>\n",
       "    .dataframe tbody tr th:only-of-type {\n",
       "        vertical-align: middle;\n",
       "    }\n",
       "\n",
       "    .dataframe tbody tr th {\n",
       "        vertical-align: top;\n",
       "    }\n",
       "\n",
       "    .dataframe thead th {\n",
       "        text-align: right;\n",
       "    }\n",
       "</style>\n",
       "<table border=\"1\" class=\"dataframe\">\n",
       "  <thead>\n",
       "    <tr style=\"text-align: right;\">\n",
       "      <th></th>\n",
       "      <th>text</th>\n",
       "      <th>label</th>\n",
       "    </tr>\n",
       "  </thead>\n",
       "  <tbody>\n",
       "    <tr>\n",
       "      <th>4995</th>\n",
       "      <td>صورة لقلعة هتلر في ألمانيا</td>\n",
       "      <td>0</td>\n",
       "    </tr>\n",
       "    <tr>\n",
       "      <th>4996</th>\n",
       "      <td>اجتماع رئيس حركة الهضة راشد الغنوشي مع زعيم ال...</td>\n",
       "      <td>0</td>\n",
       "    </tr>\n",
       "    <tr>\n",
       "      <th>4997</th>\n",
       "      <td>فتاة أفغانية كشفت وجهها ليصورها ستيف ماكوري ال...</td>\n",
       "      <td>0</td>\n",
       "    </tr>\n",
       "    <tr>\n",
       "      <th>4998</th>\n",
       "      <td>صورة ت ظهر رئيس حكومة الوفاق الليبية فايز السر...</td>\n",
       "      <td>0</td>\n",
       "    </tr>\n",
       "    <tr>\n",
       "      <th>4999</th>\n",
       "      <td>صورة ت ظهر أسلحة صيد تمت مصادرتها ثم  إتلافها ...</td>\n",
       "      <td>0</td>\n",
       "    </tr>\n",
       "  </tbody>\n",
       "</table>\n",
       "</div>"
      ],
      "text/plain": [
       "                                                   text  label\n",
       "4995                       صورة لقلعة هتلر في ألمانيا        0\n",
       "4996  اجتماع رئيس حركة الهضة راشد الغنوشي مع زعيم ال...      0\n",
       "4997  فتاة أفغانية كشفت وجهها ليصورها ستيف ماكوري ال...      0\n",
       "4998  صورة ت ظهر رئيس حكومة الوفاق الليبية فايز السر...      0\n",
       "4999  صورة ت ظهر أسلحة صيد تمت مصادرتها ثم  إتلافها ...      0"
      ]
     },
     "execution_count": 77,
     "metadata": {},
     "output_type": "execute_result"
    }
   ],
   "source": [
    "df.tail()"
   ]
  },
  {
   "cell_type": "markdown",
   "id": "2b4c3112",
   "metadata": {},
   "source": [
    "# shuffel the data"
   ]
  },
  {
   "cell_type": "code",
   "execution_count": 78,
   "id": "32ab3d9d",
   "metadata": {},
   "outputs": [
    {
     "data": {
      "text/html": [
       "<div>\n",
       "<style scoped>\n",
       "    .dataframe tbody tr th:only-of-type {\n",
       "        vertical-align: middle;\n",
       "    }\n",
       "\n",
       "    .dataframe tbody tr th {\n",
       "        vertical-align: top;\n",
       "    }\n",
       "\n",
       "    .dataframe thead th {\n",
       "        text-align: right;\n",
       "    }\n",
       "</style>\n",
       "<table border=\"1\" class=\"dataframe\">\n",
       "  <thead>\n",
       "    <tr style=\"text-align: right;\">\n",
       "      <th></th>\n",
       "      <th>text</th>\n",
       "      <th>label</th>\n",
       "    </tr>\n",
       "  </thead>\n",
       "  <tbody>\n",
       "    <tr>\n",
       "      <th>1104</th>\n",
       "      <td>كيف وقف القادة العرب في وجه ترامب ومنعوه من نق...</td>\n",
       "      <td>0</td>\n",
       "    </tr>\n",
       "    <tr>\n",
       "      <th>1475</th>\n",
       "      <td>مسؤول يؤكد أن   الشهداء ليسوا فقط مجرد أرقام و...</td>\n",
       "      <td>0</td>\n",
       "    </tr>\n",
       "    <tr>\n",
       "      <th>2382</th>\n",
       "      <td>أخبارنا المغربية  وجهت الوزارة صفعة قوية إلى ع...</td>\n",
       "      <td>1</td>\n",
       "    </tr>\n",
       "    <tr>\n",
       "      <th>3319</th>\n",
       "      <td>متابعة          أثار عدم تضمين عدد اليوم الاثن...</td>\n",
       "      <td>1</td>\n",
       "    </tr>\n",
       "    <tr>\n",
       "      <th>3631</th>\n",
       "      <td>صحيفة ألمانية تقول من بين الشخصيات القوية في ا...</td>\n",
       "      <td>0</td>\n",
       "    </tr>\n",
       "  </tbody>\n",
       "</table>\n",
       "</div>"
      ],
      "text/plain": [
       "                                                   text  label\n",
       "1104  كيف وقف القادة العرب في وجه ترامب ومنعوه من نق...      0\n",
       "1475  مسؤول يؤكد أن   الشهداء ليسوا فقط مجرد أرقام و...      0\n",
       "2382  أخبارنا المغربية  وجهت الوزارة صفعة قوية إلى ع...      1\n",
       "3319  متابعة          أثار عدم تضمين عدد اليوم الاثن...      1\n",
       "3631  صحيفة ألمانية تقول من بين الشخصيات القوية في ا...      0"
      ]
     },
     "execution_count": 78,
     "metadata": {},
     "output_type": "execute_result"
    }
   ],
   "source": [
    "from sklearn.utils import shuffle\n",
    "df=shuffle(df)\n",
    "df.head()"
   ]
  },
  {
   "cell_type": "markdown",
   "id": "33c06017",
   "metadata": {},
   "source": [
    "# reset indexes"
   ]
  },
  {
   "cell_type": "code",
   "execution_count": 79,
   "id": "7b6b7ea8",
   "metadata": {},
   "outputs": [
    {
     "data": {
      "text/plain": [
       "1    عاد لاعب باريس سان جيرمان  البرازيلي نيمار دا ...\n",
       "1    طالب توجيهي يكتشف حبه لمتابعة النشرة الاقتصادي...\n",
       "Name: text, dtype: object"
      ]
     },
     "execution_count": 79,
     "metadata": {},
     "output_type": "execute_result"
    }
   ],
   "source": [
    "df[\"text\"][1]"
   ]
  },
  {
   "cell_type": "code",
   "execution_count": 80,
   "id": "01c7dc9c",
   "metadata": {},
   "outputs": [
    {
     "data": {
      "text/html": [
       "<div>\n",
       "<style scoped>\n",
       "    .dataframe tbody tr th:only-of-type {\n",
       "        vertical-align: middle;\n",
       "    }\n",
       "\n",
       "    .dataframe tbody tr th {\n",
       "        vertical-align: top;\n",
       "    }\n",
       "\n",
       "    .dataframe thead th {\n",
       "        text-align: right;\n",
       "    }\n",
       "</style>\n",
       "<table border=\"1\" class=\"dataframe\">\n",
       "  <thead>\n",
       "    <tr style=\"text-align: right;\">\n",
       "      <th></th>\n",
       "      <th>text</th>\n",
       "      <th>label</th>\n",
       "    </tr>\n",
       "  </thead>\n",
       "  <tbody>\n",
       "    <tr>\n",
       "      <th>0</th>\n",
       "      <td>مشاهدة الأفلام السينمائية بتقنية البعد الثالث ...</td>\n",
       "      <td>1</td>\n",
       "    </tr>\n",
       "    <tr>\n",
       "      <th>1</th>\n",
       "      <td>أخبارنا المغربية   جمال مايس     نشر الشيخ الس...</td>\n",
       "      <td>1</td>\n",
       "    </tr>\n",
       "    <tr>\n",
       "      <th>2</th>\n",
       "      <td>هلي ل يجبر على الاستقالة بعد أن نسي الدعاء لحك...</td>\n",
       "      <td>0</td>\n",
       "    </tr>\n",
       "    <tr>\n",
       "      <th>3</th>\n",
       "      <td>أخبارنا المغربية ــ مراكش من المنطز أن تضع ولا...</td>\n",
       "      <td>1</td>\n",
       "    </tr>\n",
       "    <tr>\n",
       "      <th>4</th>\n",
       "      <td>كيف تقنع الناس أنك إنسان متدي ن هل تعبت من وصف...</td>\n",
       "      <td>0</td>\n",
       "    </tr>\n",
       "  </tbody>\n",
       "</table>\n",
       "</div>"
      ],
      "text/plain": [
       "                                                text  label\n",
       "0  مشاهدة الأفلام السينمائية بتقنية البعد الثالث ...      1\n",
       "1  أخبارنا المغربية   جمال مايس     نشر الشيخ الس...      1\n",
       "2  هلي ل يجبر على الاستقالة بعد أن نسي الدعاء لحك...      0\n",
       "3  أخبارنا المغربية ــ مراكش من المنطز أن تضع ولا...      1\n",
       "4  كيف تقنع الناس أنك إنسان متدي ن هل تعبت من وصف...      0"
      ]
     },
     "execution_count": 80,
     "metadata": {},
     "output_type": "execute_result"
    }
   ],
   "source": [
    "df=df.sample(frac=1).reset_index(drop=True)\n",
    "#Return a random sample of items from an axis of object.\n",
    "#frac is A random n% sample of the DataFrame with replacement\n",
    "df.head()"
   ]
  },
  {
   "cell_type": "code",
   "execution_count": 111,
   "id": "1b430ee1",
   "metadata": {},
   "outputs": [
    {
     "ename": "AttributeError",
     "evalue": "'ArabicLightStemmer' object has no attribute 'stop_words'",
     "output_type": "error",
     "traceback": [
      "\u001b[1;31m---------------------------------------------------------------------------\u001b[0m",
      "\u001b[1;31mAttributeError\u001b[0m                            Traceback (most recent call last)",
      "\u001b[1;32m<ipython-input-111-b5784e53f4a4>\u001b[0m in \u001b[0;36m<module>\u001b[1;34m\u001b[0m\n\u001b[0;32m      5\u001b[0m \u001b[1;33m\u001b[0m\u001b[0m\n\u001b[0;32m      6\u001b[0m \u001b[0mstop_words\u001b[0m\u001b[1;33m=\u001b[0m\u001b[0mss\u001b[0m\u001b[1;33m.\u001b[0m\u001b[0msplit\u001b[0m\u001b[1;33m(\u001b[0m\u001b[1;33m)\u001b[0m\u001b[1;33m\u001b[0m\u001b[1;33m\u001b[0m\u001b[0m\n\u001b[1;32m----> 7\u001b[1;33m \u001b[0mprint\u001b[0m\u001b[1;33m(\u001b[0m\u001b[0marabic_stemmer\u001b[0m\u001b[1;33m.\u001b[0m\u001b[0mstop_words\u001b[0m\u001b[1;33m)\u001b[0m\u001b[1;33m\u001b[0m\u001b[1;33m\u001b[0m\u001b[0m\n\u001b[0m",
      "\u001b[1;31mAttributeError\u001b[0m: 'ArabicLightStemmer' object has no attribute 'stop_words'"
     ]
    }
   ],
   "source": [
    "import string\n",
    "punc=list(string.punctuation)\n",
    "file=open('E:/nbn/stopwords.txt','r',encoding='utf-8')\n",
    "ss=file.read()\n",
    "\n",
    "stop_words=ss.split()\n"
   ]
  },
  {
   "cell_type": "code",
   "execution_count": 82,
   "id": "2a50e38f",
   "metadata": {},
   "outputs": [
    {
     "data": {
      "text/plain": [
       "'أخبارنا المغربية   جمال مايس     نشر الشيخ السلفي حماد القباج تدوينة مثيرة للجدل حيث أثنى فيها على الرئيس المعين الجديد سعد الدين العثماني   ووصفه بأنه ذو مستوى علمي ورصيد نضالي   بل ذهب بعيدا عندما قال أن العثماني فيه مميزات لم تجتمع في 30 حكومة عرفها المغرب بعد الاستقلال من جهتهم اعتبر فيسبوكيين تدوينة الشيخ القباج مليئة شيئا ما بما اسموه النفاق السياسي   فبعدما كان الشيخ يتغزل ببن كيران ويعتبره الزعيم الخارق   وأنه ليس مثله أحد   ويدافع عنه بشراسة   عاد ليقول نفس الكلام في حق العثماني بل اعتبر أن الأخير لم تجتمع ميزاته في 30 حكومة عرفها المغرب بعد الاستقلال   نفاق ياشيخ  هكذا علق فيسبوكي ساخرا  وفيما يلي نص تدوينة القباج  الأخ العزيز والصديق الكبير الدكتور سعد الدين العثماني شخصية وطنية اجتمع فيها ما تفرق في غيرها من الشخصيات السياسية مستوى علمي وثقافي عاليفكر متزن ومستنيررصيد نضالي إصلاحي مشرفتجربة سياسية محترمة   وأستطيع أن أجزم بأن الشخصيات التي ترأست حوالي 30 حكومة عرفها المغرب بعد الاستقلال  لا يوجد فيها من اجتمعت فيه تلك المزايا   وهو ما جعلني أعتقد أن تعيينه رئيسا للحكومة من طرف جلالة الملك  اختيار موفق وسديد   أسأل الله تعالى للسيد العثماني التوفيق والسداد والهدى والرشاد  وأن ييسر له خدمة وطنه بنجاح كما ألان الحديد لسيدنا د او د  عليه السلام   '"
      ]
     },
     "execution_count": 82,
     "metadata": {},
     "output_type": "execute_result"
    }
   ],
   "source": [
    "df[\"text\"][1]"
   ]
  },
  {
   "cell_type": "code",
   "execution_count": 83,
   "id": "8e45364c",
   "metadata": {},
   "outputs": [],
   "source": [
    "\n",
    "def remove_stopwords1():\n",
    "    result_data.delete(\"1.0\",END)\n",
    "    text=rawdata.get(\"1.0\",END)\n",
    "    results=[]\n",
    "    for word in text.split():\n",
    "        if word not in stop_words:\n",
    "\n",
    "            results.append(word)\n",
    "    result_data.insert(\"1.0\",\" - \".join(results))\n"
   ]
  },
  {
   "cell_type": "code",
   "execution_count": 84,
   "id": "d012df6f",
   "metadata": {},
   "outputs": [],
   "source": [
    "def choose_text():\n",
    "    import random\n",
    "    n=random.randint(0,len(df))\n",
    "    rawdata.delete('1.0',END)\n",
    "    rawdata.insert(\"1.0\",df['text'][n])"
   ]
  },
  {
   "cell_type": "code",
   "execution_count": 85,
   "id": "33e60687",
   "metadata": {},
   "outputs": [],
   "source": [
    "def splitting1():\n",
    "    result_data.delete(\"1.0\",END)\n",
    "    text=rawdata.get(\"1.0\",END)\n",
    "    results=[]\n",
    "    for word in text.split():\n",
    "        results.append(word)\n",
    "    result_data.insert(\"1.0\",\" - \".join(results))\n",
    "def stemming1():\n",
    "    result_data.delete(\"1.0\",END)\n",
    "    text=rawdata.get(\"1.0\",END)\n",
    "    results=[]\n",
    "    for word in text.split():\n",
    "        word=u\"{}\".format(word)\n",
    "        arabic_stemmer.light_stem(word)\n",
    "        results.append(arabic_stemmer.get_stem())\n",
    "    result_data.insert(\"1.0\",\" - \".join(results))\n",
    "def get_root1():\n",
    "    \n",
    "    result_data.delete(\"1.0\",END)\n",
    "    text=rawdata.get(\"1.0\",END)\n",
    "    results=[]\n",
    "    for word in text.split():\n",
    "        word=u\"{}\".format(word)\n",
    "        arabic_stemmer.light_stem(word)\n",
    "        results.append(arabic_stemmer.get_root())\n",
    "    result_data.insert(\"1.0\",\" - \".join(results))\n"
   ]
  },
  {
   "cell_type": "code",
   "execution_count": 86,
   "id": "51deb20d",
   "metadata": {},
   "outputs": [],
   "source": [
    "def segmentation1():\n",
    "    result_data.delete(\"1.0\",END)\n",
    "    text=rawdata.get(\"1.0\",END)\n",
    "    results=[]\n",
    "    for word in text.split('.'):\n",
    "        results.append(word)\n",
    "    result_data.insert(\"1.0\",\" - \".join(results))"
   ]
  },
  {
   "cell_type": "code",
   "execution_count": 87,
   "id": "ac589998",
   "metadata": {},
   "outputs": [
    {
     "name": "stdout",
     "output_type": "stream",
     "text": [
      "loading dictPrefixes ... loaded 299 entries\n",
      "loading dictStems ... loaded 38600 lemmas and 82158 entries\n",
      "loading dictSuffixes ... loaded 618 entries\n"
     ]
    }
   ],
   "source": [
    "import pyaramorph\n",
    "analyzer=pyaramorph.Analyzer()\n",
    "def analyze_text():\n",
    "    result_data.delete(\"1.0\",END)\n",
    "    text=rawdata.get(\"1.0\",END)\n",
    "    results=analyzer.analyze_text(text)\n",
    "    \n",
    "    result_data.insert(\"1.0\",results)"
   ]
  },
  {
   "cell_type": "code",
   "execution_count": 88,
   "id": "a3bc2a7a",
   "metadata": {
    "scrolled": true
   },
   "outputs": [],
   "source": [
    "top=Tk()\n",
    "top.title('Fake News')\n",
    "top.geometry(\"575x600\") \n",
    "label1=Label(top,text='Enter your Text')\n",
    "rawdata=Text(top,height=15,width=60,)\n",
    "label2=Label(top,text='Result')\n",
    "result_data=Text(top,height=15,width=60,)\n",
    "stem_button=Button(top,text=\"Stem\",command=stemming1)\n",
    "segmentation_button=Button(top,text=\"Segmentation\",command=segmentation1)\n",
    "get_root_button=Button(top,text=\"Get Root\",command=get_root1)\n",
    "split_button=Button(top,text=\"Split Text\",command=splitting1)\n",
    "stopwords_button=Button(top,text=\"Remove StopWords\",command=remove_stopwords1)\n",
    "analyz_button=Button(top,text=\"Analyze Text\",command=analyze_text)\n",
    "random_button=Button(top,text=\"Random text from data\",command=choose_text)\n",
    "\n",
    "\n",
    "\n",
    "label1.grid(row=0,columnspan=7)\n",
    "rawdata.grid(row=1,columnspan=7)\n",
    "label2.grid(row=2,columnspan=7)\n",
    "result_data.grid(row=3,columnspan=7)\n",
    "split_button.grid(row=4,column=0)\n",
    "segmentation_button.grid(row=4,column=1)\n",
    "stopwords_button.grid(row=4,column=2)\n",
    "stem_button.grid(row=4,column=3)\n",
    "get_root_button.grid(row=4,column=4)\n",
    "analyz_button.grid(row=4,column=5)\n",
    "random_button.grid(row=4,column=6)\n",
    "\n",
    "top.mainloop()"
   ]
  },
  {
   "cell_type": "markdown",
   "id": "0fe5be48",
   "metadata": {},
   "source": []
  },
  {
   "cell_type": "code",
   "execution_count": 89,
   "id": "911d16a6",
   "metadata": {},
   "outputs": [],
   "source": [
    "def segmentation(text):\n",
    "    results=text.split('.')\n",
    "    return \" \".join(results)"
   ]
  },
  {
   "cell_type": "code",
   "execution_count": 90,
   "id": "34b271e1",
   "metadata": {},
   "outputs": [],
   "source": [
    "def splitting(text):\n",
    "\n",
    "    results=text.split()\n",
    "    #['','']\n",
    "    return \" \".join(results)"
   ]
  },
  {
   "cell_type": "code",
   "execution_count": 91,
   "id": "3f2106e4",
   "metadata": {},
   "outputs": [],
   "source": [
    "def remove_stopwords(text):\n",
    "    results=[]\n",
    "    for word in text.split():\n",
    "        if word not in stop_words:\n",
    "\n",
    "            results.append(word)\n",
    "    return \" \".join(results)\n"
   ]
  },
  {
   "cell_type": "code",
   "execution_count": 92,
   "id": "2ff1517c",
   "metadata": {},
   "outputs": [],
   "source": [
    "def remove_punctuation(text):\n",
    "\n",
    "    t=[]\n",
    "    for word in text.split(): \n",
    "        if word not in punc:\n",
    "            t.append(word)\n",
    "            \n",
    "    return \" \".join(t)"
   ]
  },
  {
   "cell_type": "code",
   "execution_count": 93,
   "id": "1c52a83b",
   "metadata": {},
   "outputs": [],
   "source": [
    "\n",
    "def stemming(text):\n",
    "\n",
    "    results=[]\n",
    "    for word in text.split():\n",
    "        word=u\"{}\".format(word)\n",
    "        arabic_stemmer.light_stem(word)\n",
    "        results.append(arabic_stemmer.get_stem())\n",
    "        \n",
    "    return \" \".join(results)\n"
   ]
  },
  {
   "cell_type": "code",
   "execution_count": 94,
   "id": "3e928d95",
   "metadata": {},
   "outputs": [],
   "source": [
    "\n",
    "def get_root(text):\n",
    "    results=[]\n",
    "    \n",
    "    for word in text.split():\n",
    "        word=u\"{}\".format(word)\n",
    "        arabic_stemmer.light_stem(word)\n",
    "        results.append(arabic_stemmer.get_root())\n",
    "    return \" \".join(results)\n"
   ]
  },
  {
   "cell_type": "markdown",
   "id": "afe3ae8a",
   "metadata": {},
   "source": [
    "# applay the preprocessing"
   ]
  },
  {
   "cell_type": "code",
   "execution_count": 95,
   "id": "91b5d6e5",
   "metadata": {},
   "outputs": [],
   "source": [
    "#df['text1']=df['text'].apply(remove_stopwords)\n",
    "df['text1']=df['text'].apply(remove_punctuation)\n",
    "df['text1']=df['text'].apply(get_root)\n"
   ]
  },
  {
   "cell_type": "markdown",
   "id": "34d80676",
   "metadata": {},
   "source": [
    "# Naive Bayes with Tf_Idf"
   ]
  },
  {
   "cell_type": "code",
   "execution_count": 96,
   "id": "573e6e08",
   "metadata": {},
   "outputs": [],
   "source": [
    "from sklearn.feature_extraction.text import TfidfVectorizer\n",
    "from sklearn.model_selection import train_test_split\n",
    "#feature extraction\n",
    "tfidf_vec=TfidfVectorizer()\n",
    "tfidf_features=tfidf_vec.fit_transform(df['text1'])\n",
    "#split data into train and test\n",
    "x_train,x_test,y_train,y_test=train_test_split(tfidf_features,df['label'],test_size=0.2)"
   ]
  },
  {
   "cell_type": "code",
   "execution_count": 97,
   "id": "43d1f864",
   "metadata": {},
   "outputs": [
    {
     "name": "stdout",
     "output_type": "stream",
     "text": [
      "(8000, 16702)\n",
      "(2000, 16702)\n"
     ]
    }
   ],
   "source": [
    "print(x_train.shape)\n",
    "print(x_test.shape)"
   ]
  },
  {
   "cell_type": "code",
   "execution_count": 98,
   "id": "068a5cf7",
   "metadata": {},
   "outputs": [
    {
     "data": {
      "text/plain": [
       "MultinomialNB()"
      ]
     },
     "execution_count": 98,
     "metadata": {},
     "output_type": "execute_result"
    }
   ],
   "source": [
    "# classifier\n",
    "from sklearn.naive_bayes import MultinomialNB\n",
    "tfidf_model=MultinomialNB()\n",
    "tfidf_model.fit(x_train,y_train)"
   ]
  },
  {
   "cell_type": "markdown",
   "id": "018677c0",
   "metadata": {},
   "source": [
    "# accurcy"
   ]
  },
  {
   "cell_type": "code",
   "execution_count": 99,
   "id": "e91c97d0",
   "metadata": {},
   "outputs": [
    {
     "name": "stdout",
     "output_type": "stream",
     "text": [
      "0.928\n"
     ]
    }
   ],
   "source": [
    "import numpy as np\n",
    "tfidf_predected=tfidf_model.predict(x_test)\n",
    "print(np.mean(tfidf_predected==y_test))"
   ]
  },
  {
   "cell_type": "markdown",
   "id": "b14d8e09",
   "metadata": {},
   "source": [
    "# confusion matrix"
   ]
  },
  {
   "cell_type": "code",
   "execution_count": 100,
   "id": "6bceeaa3",
   "metadata": {},
   "outputs": [
    {
     "name": "stdout",
     "output_type": "stream",
     "text": [
      "[[879 124]\n",
      " [ 20 977]]\n"
     ]
    }
   ],
   "source": [
    "from sklearn.metrics import confusion_matrix\n",
    "print(confusion_matrix(y_test,tfidf_predected))"
   ]
  },
  {
   "cell_type": "markdown",
   "id": "34f92ac6",
   "metadata": {},
   "source": [
    "# Random Forest with Tf_Idf"
   ]
  },
  {
   "cell_type": "code",
   "execution_count": 101,
   "id": "444bde7a",
   "metadata": {},
   "outputs": [
    {
     "data": {
      "text/plain": [
       "0.9555"
      ]
     },
     "execution_count": 101,
     "metadata": {},
     "output_type": "execute_result"
    }
   ],
   "source": [
    "from sklearn.ensemble import RandomForestClassifier\n",
    "from sklearn.metrics import accuracy_score\n",
    "rf = RandomForestClassifier()\n",
    "rf.fit(x_train,y_train)\n",
    "y_pred = rf.predict(x_test)\n",
    "accuracy_score(y_test,y_pred)"
   ]
  },
  {
   "cell_type": "markdown",
   "id": "334ab639",
   "metadata": {},
   "source": [
    "# Naive Bayes with Binary Encoding"
   ]
  },
  {
   "cell_type": "code",
   "execution_count": 102,
   "id": "3ddf4628",
   "metadata": {},
   "outputs": [
    {
     "data": {
      "text/html": [
       "<div>\n",
       "<style scoped>\n",
       "    .dataframe tbody tr th:only-of-type {\n",
       "        vertical-align: middle;\n",
       "    }\n",
       "\n",
       "    .dataframe tbody tr th {\n",
       "        vertical-align: top;\n",
       "    }\n",
       "\n",
       "    .dataframe thead th {\n",
       "        text-align: right;\n",
       "    }\n",
       "</style>\n",
       "<table border=\"1\" class=\"dataframe\">\n",
       "  <thead>\n",
       "    <tr style=\"text-align: right;\">\n",
       "      <th></th>\n",
       "      <th>000</th>\n",
       "      <th>00000كء</th>\n",
       "      <th>00212522438138</th>\n",
       "      <th>00218213617808</th>\n",
       "      <th>00218213617809</th>\n",
       "      <th>0021821365101بلنسب</th>\n",
       "      <th>00218612241112</th>\n",
       "      <th>0031</th>\n",
       "      <th>00ر11</th>\n",
       "      <th>00ر15</th>\n",
       "      <th>...</th>\n",
       "      <th>ﻷكذب</th>\n",
       "      <th>ﻷكل</th>\n",
       "      <th>ﻷمر</th>\n",
       "      <th>ﻷنن</th>\n",
       "      <th>ﻹءنترنت</th>\n",
       "      <th>ﻹنس</th>\n",
       "      <th>ﻹﺩﺍﺭﺓ</th>\n",
       "      <th>ﻻرشف</th>\n",
       "      <th>ﻻﺴـﺘﻤﺭﺍﺭﻴﺔ</th>\n",
       "      <th>ﻻﻨﺘﺨﺎﺒﺎﺕ</th>\n",
       "    </tr>\n",
       "  </thead>\n",
       "  <tbody>\n",
       "    <tr>\n",
       "      <th>0</th>\n",
       "      <td>0</td>\n",
       "      <td>0</td>\n",
       "      <td>0</td>\n",
       "      <td>0</td>\n",
       "      <td>0</td>\n",
       "      <td>0</td>\n",
       "      <td>0</td>\n",
       "      <td>0</td>\n",
       "      <td>0</td>\n",
       "      <td>0</td>\n",
       "      <td>...</td>\n",
       "      <td>0</td>\n",
       "      <td>0</td>\n",
       "      <td>0</td>\n",
       "      <td>0</td>\n",
       "      <td>0</td>\n",
       "      <td>0</td>\n",
       "      <td>0</td>\n",
       "      <td>0</td>\n",
       "      <td>0</td>\n",
       "      <td>0</td>\n",
       "    </tr>\n",
       "    <tr>\n",
       "      <th>1</th>\n",
       "      <td>0</td>\n",
       "      <td>0</td>\n",
       "      <td>0</td>\n",
       "      <td>0</td>\n",
       "      <td>0</td>\n",
       "      <td>0</td>\n",
       "      <td>0</td>\n",
       "      <td>0</td>\n",
       "      <td>0</td>\n",
       "      <td>0</td>\n",
       "      <td>...</td>\n",
       "      <td>0</td>\n",
       "      <td>0</td>\n",
       "      <td>0</td>\n",
       "      <td>0</td>\n",
       "      <td>0</td>\n",
       "      <td>0</td>\n",
       "      <td>0</td>\n",
       "      <td>0</td>\n",
       "      <td>0</td>\n",
       "      <td>0</td>\n",
       "    </tr>\n",
       "    <tr>\n",
       "      <th>2</th>\n",
       "      <td>0</td>\n",
       "      <td>0</td>\n",
       "      <td>0</td>\n",
       "      <td>0</td>\n",
       "      <td>0</td>\n",
       "      <td>0</td>\n",
       "      <td>0</td>\n",
       "      <td>0</td>\n",
       "      <td>0</td>\n",
       "      <td>0</td>\n",
       "      <td>...</td>\n",
       "      <td>0</td>\n",
       "      <td>0</td>\n",
       "      <td>0</td>\n",
       "      <td>0</td>\n",
       "      <td>0</td>\n",
       "      <td>0</td>\n",
       "      <td>0</td>\n",
       "      <td>0</td>\n",
       "      <td>0</td>\n",
       "      <td>0</td>\n",
       "    </tr>\n",
       "    <tr>\n",
       "      <th>3</th>\n",
       "      <td>0</td>\n",
       "      <td>0</td>\n",
       "      <td>0</td>\n",
       "      <td>0</td>\n",
       "      <td>0</td>\n",
       "      <td>0</td>\n",
       "      <td>0</td>\n",
       "      <td>0</td>\n",
       "      <td>0</td>\n",
       "      <td>0</td>\n",
       "      <td>...</td>\n",
       "      <td>0</td>\n",
       "      <td>0</td>\n",
       "      <td>0</td>\n",
       "      <td>0</td>\n",
       "      <td>0</td>\n",
       "      <td>0</td>\n",
       "      <td>0</td>\n",
       "      <td>0</td>\n",
       "      <td>0</td>\n",
       "      <td>0</td>\n",
       "    </tr>\n",
       "    <tr>\n",
       "      <th>4</th>\n",
       "      <td>0</td>\n",
       "      <td>0</td>\n",
       "      <td>0</td>\n",
       "      <td>0</td>\n",
       "      <td>0</td>\n",
       "      <td>0</td>\n",
       "      <td>0</td>\n",
       "      <td>0</td>\n",
       "      <td>0</td>\n",
       "      <td>0</td>\n",
       "      <td>...</td>\n",
       "      <td>0</td>\n",
       "      <td>0</td>\n",
       "      <td>0</td>\n",
       "      <td>0</td>\n",
       "      <td>0</td>\n",
       "      <td>0</td>\n",
       "      <td>0</td>\n",
       "      <td>0</td>\n",
       "      <td>0</td>\n",
       "      <td>0</td>\n",
       "    </tr>\n",
       "    <tr>\n",
       "      <th>...</th>\n",
       "      <td>...</td>\n",
       "      <td>...</td>\n",
       "      <td>...</td>\n",
       "      <td>...</td>\n",
       "      <td>...</td>\n",
       "      <td>...</td>\n",
       "      <td>...</td>\n",
       "      <td>...</td>\n",
       "      <td>...</td>\n",
       "      <td>...</td>\n",
       "      <td>...</td>\n",
       "      <td>...</td>\n",
       "      <td>...</td>\n",
       "      <td>...</td>\n",
       "      <td>...</td>\n",
       "      <td>...</td>\n",
       "      <td>...</td>\n",
       "      <td>...</td>\n",
       "      <td>...</td>\n",
       "      <td>...</td>\n",
       "      <td>...</td>\n",
       "    </tr>\n",
       "    <tr>\n",
       "      <th>9995</th>\n",
       "      <td>0</td>\n",
       "      <td>0</td>\n",
       "      <td>0</td>\n",
       "      <td>0</td>\n",
       "      <td>0</td>\n",
       "      <td>0</td>\n",
       "      <td>0</td>\n",
       "      <td>0</td>\n",
       "      <td>0</td>\n",
       "      <td>0</td>\n",
       "      <td>...</td>\n",
       "      <td>0</td>\n",
       "      <td>0</td>\n",
       "      <td>0</td>\n",
       "      <td>0</td>\n",
       "      <td>0</td>\n",
       "      <td>0</td>\n",
       "      <td>0</td>\n",
       "      <td>0</td>\n",
       "      <td>0</td>\n",
       "      <td>0</td>\n",
       "    </tr>\n",
       "    <tr>\n",
       "      <th>9996</th>\n",
       "      <td>0</td>\n",
       "      <td>0</td>\n",
       "      <td>0</td>\n",
       "      <td>0</td>\n",
       "      <td>0</td>\n",
       "      <td>0</td>\n",
       "      <td>0</td>\n",
       "      <td>0</td>\n",
       "      <td>0</td>\n",
       "      <td>0</td>\n",
       "      <td>...</td>\n",
       "      <td>0</td>\n",
       "      <td>0</td>\n",
       "      <td>0</td>\n",
       "      <td>0</td>\n",
       "      <td>0</td>\n",
       "      <td>0</td>\n",
       "      <td>0</td>\n",
       "      <td>0</td>\n",
       "      <td>0</td>\n",
       "      <td>0</td>\n",
       "    </tr>\n",
       "    <tr>\n",
       "      <th>9997</th>\n",
       "      <td>0</td>\n",
       "      <td>0</td>\n",
       "      <td>0</td>\n",
       "      <td>0</td>\n",
       "      <td>0</td>\n",
       "      <td>0</td>\n",
       "      <td>0</td>\n",
       "      <td>0</td>\n",
       "      <td>0</td>\n",
       "      <td>0</td>\n",
       "      <td>...</td>\n",
       "      <td>0</td>\n",
       "      <td>0</td>\n",
       "      <td>0</td>\n",
       "      <td>0</td>\n",
       "      <td>0</td>\n",
       "      <td>0</td>\n",
       "      <td>0</td>\n",
       "      <td>0</td>\n",
       "      <td>0</td>\n",
       "      <td>0</td>\n",
       "    </tr>\n",
       "    <tr>\n",
       "      <th>9998</th>\n",
       "      <td>0</td>\n",
       "      <td>0</td>\n",
       "      <td>0</td>\n",
       "      <td>0</td>\n",
       "      <td>0</td>\n",
       "      <td>0</td>\n",
       "      <td>0</td>\n",
       "      <td>0</td>\n",
       "      <td>0</td>\n",
       "      <td>0</td>\n",
       "      <td>...</td>\n",
       "      <td>0</td>\n",
       "      <td>0</td>\n",
       "      <td>0</td>\n",
       "      <td>0</td>\n",
       "      <td>0</td>\n",
       "      <td>0</td>\n",
       "      <td>0</td>\n",
       "      <td>0</td>\n",
       "      <td>0</td>\n",
       "      <td>0</td>\n",
       "    </tr>\n",
       "    <tr>\n",
       "      <th>9999</th>\n",
       "      <td>0</td>\n",
       "      <td>0</td>\n",
       "      <td>0</td>\n",
       "      <td>0</td>\n",
       "      <td>0</td>\n",
       "      <td>0</td>\n",
       "      <td>0</td>\n",
       "      <td>0</td>\n",
       "      <td>0</td>\n",
       "      <td>0</td>\n",
       "      <td>...</td>\n",
       "      <td>0</td>\n",
       "      <td>0</td>\n",
       "      <td>0</td>\n",
       "      <td>0</td>\n",
       "      <td>0</td>\n",
       "      <td>0</td>\n",
       "      <td>0</td>\n",
       "      <td>0</td>\n",
       "      <td>0</td>\n",
       "      <td>0</td>\n",
       "    </tr>\n",
       "  </tbody>\n",
       "</table>\n",
       "<p>10000 rows × 16702 columns</p>\n",
       "</div>"
      ],
      "text/plain": [
       "      000  00000كء  00212522438138  00218213617808  00218213617809  \\\n",
       "0       0        0               0               0               0   \n",
       "1       0        0               0               0               0   \n",
       "2       0        0               0               0               0   \n",
       "3       0        0               0               0               0   \n",
       "4       0        0               0               0               0   \n",
       "...   ...      ...             ...             ...             ...   \n",
       "9995    0        0               0               0               0   \n",
       "9996    0        0               0               0               0   \n",
       "9997    0        0               0               0               0   \n",
       "9998    0        0               0               0               0   \n",
       "9999    0        0               0               0               0   \n",
       "\n",
       "      0021821365101بلنسب  00218612241112  0031  00ر11  00ر15  ...  ﻷكذب  ﻷكل  \\\n",
       "0                      0               0     0      0      0  ...     0    0   \n",
       "1                      0               0     0      0      0  ...     0    0   \n",
       "2                      0               0     0      0      0  ...     0    0   \n",
       "3                      0               0     0      0      0  ...     0    0   \n",
       "4                      0               0     0      0      0  ...     0    0   \n",
       "...                  ...             ...   ...    ...    ...  ...   ...  ...   \n",
       "9995                   0               0     0      0      0  ...     0    0   \n",
       "9996                   0               0     0      0      0  ...     0    0   \n",
       "9997                   0               0     0      0      0  ...     0    0   \n",
       "9998                   0               0     0      0      0  ...     0    0   \n",
       "9999                   0               0     0      0      0  ...     0    0   \n",
       "\n",
       "      ﻷمر  ﻷنن  ﻹءنترنت  ﻹنس  ﻹﺩﺍﺭﺓ  ﻻرشف  ﻻﺴـﺘﻤﺭﺍﺭﻴﺔ  ﻻﻨﺘﺨﺎﺒﺎﺕ  \n",
       "0       0    0        0    0      0     0           0         0  \n",
       "1       0    0        0    0      0     0           0         0  \n",
       "2       0    0        0    0      0     0           0         0  \n",
       "3       0    0        0    0      0     0           0         0  \n",
       "4       0    0        0    0      0     0           0         0  \n",
       "...   ...  ...      ...  ...    ...   ...         ...       ...  \n",
       "9995    0    0        0    0      0     0           0         0  \n",
       "9996    0    0        0    0      0     0           0         0  \n",
       "9997    0    0        0    0      0     0           0         0  \n",
       "9998    0    0        0    0      0     0           0         0  \n",
       "9999    0    0        0    0      0     0           0         0  \n",
       "\n",
       "[10000 rows x 16702 columns]"
      ]
     },
     "execution_count": 102,
     "metadata": {},
     "output_type": "execute_result"
    }
   ],
   "source": [
    "from sklearn.feature_extraction.text import CountVectorizer\n",
    "binary_vec=CountVectorizer(binary=True)\n",
    "binary_features=binary_vec.fit_transform(df['text1']) #Learn the vocabulary dictionary and return document-term matrix\n",
    "#{'':51}\n",
    "\n",
    "x_train,x_test,y_train,y_test=train_test_split(binary_features,df['label'],test_size=0.2)\n",
    "pd.DataFrame(binary_features.toarray(),columns=sorted(binary_vec.vocabulary_.keys()))"
   ]
  },
  {
   "cell_type": "code",
   "execution_count": 103,
   "id": "1767ad85",
   "metadata": {},
   "outputs": [
    {
     "data": {
      "text/plain": [
       "MultinomialNB()"
      ]
     },
     "execution_count": 103,
     "metadata": {},
     "output_type": "execute_result"
    }
   ],
   "source": [
    "# classefier\n",
    "binary_model=MultinomialNB()\n",
    "binary_model.fit(x_train,y_train)"
   ]
  },
  {
   "cell_type": "markdown",
   "id": "9c5cdf7e",
   "metadata": {},
   "source": [
    "# accurcy"
   ]
  },
  {
   "cell_type": "code",
   "execution_count": 104,
   "id": "e7cbae30",
   "metadata": {},
   "outputs": [
    {
     "name": "stdout",
     "output_type": "stream",
     "text": [
      "0.9005\n"
     ]
    }
   ],
   "source": [
    "binary_predicted=binary_model.predict(x_test)\n",
    "# 1\n",
    "print(np.mean(binary_predicted==y_test))"
   ]
  },
  {
   "cell_type": "markdown",
   "id": "8e0495b9",
   "metadata": {},
   "source": [
    "# Confusion Matrix"
   ]
  },
  {
   "cell_type": "code",
   "execution_count": 105,
   "id": "d4d19288",
   "metadata": {},
   "outputs": [
    {
     "name": "stdout",
     "output_type": "stream",
     "text": [
      "[[866  48]\n",
      " [151 935]]\n"
     ]
    }
   ],
   "source": [
    "print(confusion_matrix(binary_predicted,y_test))"
   ]
  },
  {
   "cell_type": "markdown",
   "id": "0d8768a1",
   "metadata": {},
   "source": [
    "# Random Forest with Binary Encoding"
   ]
  },
  {
   "cell_type": "code",
   "execution_count": 106,
   "id": "0644ed2c",
   "metadata": {},
   "outputs": [
    {
     "data": {
      "text/plain": [
       "0.941"
      ]
     },
     "execution_count": 106,
     "metadata": {},
     "output_type": "execute_result"
    }
   ],
   "source": [
    "from sklearn.ensemble import RandomForestClassifier\n",
    "from sklearn.metrics import accuracy_score\n",
    "rf = RandomForestClassifier()\n",
    "rf.fit(x_train,y_train)\n",
    "y_pred = rf.predict(x_test)\n",
    "accuracy_score(y_test,y_pred)"
   ]
  },
  {
   "cell_type": "markdown",
   "id": "9d792e84",
   "metadata": {},
   "source": [
    "# Naive Bayes with Counting"
   ]
  },
  {
   "cell_type": "code",
   "execution_count": 107,
   "id": "609ca511",
   "metadata": {},
   "outputs": [
    {
     "data": {
      "text/plain": [
       "MultinomialNB()"
      ]
     },
     "execution_count": 107,
     "metadata": {},
     "output_type": "execute_result"
    }
   ],
   "source": [
    "count_vec=CountVectorizer()\n",
    "count_features=count_vec.fit_transform(df['text1'])\n",
    "#[[5,5,15]]\n",
    "x_train,x_test,y_train,y_test=train_test_split(count_features,df['label'],test_size=0.2)\n",
    "count_model=MultinomialNB()\n",
    "count_model.fit(x_train,y_train)\n"
   ]
  },
  {
   "cell_type": "markdown",
   "id": "68a2e8e8",
   "metadata": {},
   "source": [
    "# accurcy"
   ]
  },
  {
   "cell_type": "code",
   "execution_count": 108,
   "id": "a389e347",
   "metadata": {},
   "outputs": [
    {
     "name": "stdout",
     "output_type": "stream",
     "text": [
      "0.9015\n"
     ]
    }
   ],
   "source": [
    "count_predicted=count_model.predict(x_test)\n",
    "print(np.mean(count_predicted==y_test))"
   ]
  },
  {
   "cell_type": "markdown",
   "id": "9655243e",
   "metadata": {},
   "source": [
    "# Confusion Matrix"
   ]
  },
  {
   "cell_type": "code",
   "execution_count": 109,
   "id": "0dff6243",
   "metadata": {},
   "outputs": [
    {
     "name": "stdout",
     "output_type": "stream",
     "text": [
      "[[822  39]\n",
      " [158 981]]\n"
     ]
    }
   ],
   "source": [
    "print(confusion_matrix(count_predicted,y_test))"
   ]
  },
  {
   "cell_type": "markdown",
   "id": "5ee93c7c",
   "metadata": {},
   "source": [
    "# Random Forest with Counting"
   ]
  },
  {
   "cell_type": "code",
   "execution_count": 110,
   "id": "e21b1d6c",
   "metadata": {},
   "outputs": [
    {
     "data": {
      "text/plain": [
       "0.943"
      ]
     },
     "execution_count": 110,
     "metadata": {},
     "output_type": "execute_result"
    }
   ],
   "source": [
    "from sklearn.ensemble import RandomForestClassifier\n",
    "from sklearn.metrics import accuracy_score\n",
    "rf = RandomForestClassifier()\n",
    "rf.fit(x_train,y_train)\n",
    "y_pred = rf.predict(x_test)\n",
    "accuracy_score(y_test,y_pred)"
   ]
  },
  {
   "cell_type": "code",
   "execution_count": null,
   "id": "0d35c0f5",
   "metadata": {},
   "outputs": [],
   "source": []
  },
  {
   "cell_type": "code",
   "execution_count": null,
   "id": "638eab98",
   "metadata": {},
   "outputs": [],
   "source": []
  }
 ],
 "metadata": {
  "kernelspec": {
   "display_name": "Python 3",
   "language": "python",
   "name": "python3"
  },
  "language_info": {
   "codemirror_mode": {
    "name": "ipython",
    "version": 3
   },
   "file_extension": ".py",
   "mimetype": "text/x-python",
   "name": "python",
   "nbconvert_exporter": "python",
   "pygments_lexer": "ipython3",
   "version": "3.8.8"
  }
 },
 "nbformat": 4,
 "nbformat_minor": 5
}
